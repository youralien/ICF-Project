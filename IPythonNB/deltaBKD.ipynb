{
 "metadata": {
  "name": "deltaBKD"
 },
 "nbformat": 3,
 "nbformat_minor": 0,
 "worksheets": [
  {
   "cells": [
    {
     "cell_type": "code",
     "collapsed": false,
     "input": "cd ~/DataScience/ICF-Project/",
     "language": "python",
     "metadata": {},
     "outputs": [
      {
       "output_type": "stream",
       "stream": "stdout",
       "text": "/home/rlouie/DataScience/ICF-Project\n"
      }
     ],
     "prompt_number": 16
    },
    {
     "cell_type": "code",
     "collapsed": false,
     "input": "import numpy as np\nimport matplotlib.pyplot as plt\n\nfrom FeatureFilter import FeatureFilter\nfrom Utils import Utils\nfrom Visualizer import Visualizer\nfrom Network import Network",
     "language": "python",
     "metadata": {},
     "outputs": [],
     "prompt_number": 17
    },
    {
     "cell_type": "code",
     "collapsed": false,
     "input": "num_records = 'all'\nfilename = 'Data/Normalized_BKGDAT_Filtered_ZeroTOTALBKD.txt'\nn = Network(num_records, filename)\nv = Visualizer()",
     "language": "python",
     "metadata": {},
     "outputs": [],
     "prompt_number": 21
    },
    {
     "cell_type": "code",
     "collapsed": false,
     "input": "firstflight = n.f.getDrillDown(orgs=['DXB'],dests=['DMM'],flights=[101],date_ranges=['1/1/2013'])\nff = firstflight",
     "language": "python",
     "metadata": {},
     "outputs": [],
     "prompt_number": 22
    },
    {
     "cell_type": "code",
     "collapsed": false,
     "input": "for group, df in ff.groupby('BC'):\n    keyday_obsrvd = np.array( -df['KEYDAY'] )\n    keyday_interp = np.linspace( -1, 0, 101 ) # Interpolate every 3 unnormalized keydays\n    \n    # Interpolate BKD\n    bkd_obsrvd = np.array( df['BKD'] )\n    bkd_interp = n.interp( keyday_interp, keyday_obsrvd, bkd_obsrvd )\n    \n    # Interpolate AUTH\n    auth_obsrvd = np.array( df['AUTH'] )\n    auth_interp = n.interp( keyday_interp, keyday_obsrvd, auth_obsrvd )\n    \n    # Add DeltaBKD\n    # TODO\n    \n    \n    # Format into DataFrame\n    # TODO\n    ",
     "language": "python",
     "metadata": {},
     "outputs": [],
     "prompt_number": 52
    },
    {
     "cell_type": "code",
     "collapsed": false,
     "input": "",
     "language": "python",
     "metadata": {},
     "outputs": []
    }
   ],
   "metadata": {}
  }
 ]
}