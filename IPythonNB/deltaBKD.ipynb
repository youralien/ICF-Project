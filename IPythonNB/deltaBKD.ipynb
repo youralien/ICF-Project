{
 "metadata": {
  "name": ""
 },
 "nbformat": 3,
 "nbformat_minor": 0,
 "worksheets": [
  {
   "cells": [
    {
     "cell_type": "code",
     "collapsed": false,
     "input": [
      "%matplotlib inline"
     ],
     "language": "python",
     "metadata": {},
     "outputs": [],
     "prompt_number": 103
    },
    {
     "cell_type": "code",
     "collapsed": false,
     "input": [
      "cd /home/rlouie/DataScience/ICF-Project/"
     ],
     "language": "python",
     "metadata": {},
     "outputs": [
      {
       "output_type": "stream",
       "stream": "stdout",
       "text": [
        "/home/rlouie/DataScience/ICF-Project\n"
       ]
      }
     ],
     "prompt_number": 104
    },
    {
     "cell_type": "code",
     "collapsed": false,
     "input": [
      "import os\n",
      "import random\n",
      "import numpy as np\n",
      "import pandas as pd\n",
      "import matplotlib.pyplot as plt\n",
      "from sklearn.ensemble import RandomForestClassifier\n",
      "from sklearn.metrics import accuracy_score\n",
      "\n",
      "from FeatureFilter import FeatureFilter\n",
      "from Utils import Utils\n",
      "from Visualizer import Visualizer\n",
      "from Network import Network"
     ],
     "language": "python",
     "metadata": {},
     "outputs": [],
     "prompt_number": 184
    },
    {
     "cell_type": "code",
     "collapsed": false,
     "input": [
      "data_dir = os.path.join(os.path.abspath(\".\"), \"Data/\")"
     ],
     "language": "python",
     "metadata": {},
     "outputs": [
      {
       "output_type": "stream",
       "stream": "stdout",
       "text": [
        "/home/rlouie/DataScience/ICF-Project/Data/\n"
       ]
      }
     ],
     "prompt_number": 248
    },
    {
     "cell_type": "code",
     "collapsed": false,
     "input": [
      "num_records = 1000000\n",
      "data_dir = os.path.join(os.path.abspath(\".\"), \"Data/\")\n",
      "normalized = \"Normalized_BKGDAT_Filtered_ZeroTOTALBKD.txt\"\n",
      "unnormalized = \"BKGDAT_ZeroTOTALBKD.txt\"\n",
      "filename = data_dir + unnormalized\n",
      "n = Network(num_records, filename)\n",
      "v = Visualizer()"
     ],
     "language": "python",
     "metadata": {},
     "outputs": [],
     "prompt_number": 137
    },
    {
     "cell_type": "code",
     "collapsed": false,
     "input": [
      "firstflight = n.f.getDrillDown(orgs=['DXB'],dests=['DMM'],cabins=[\"Y\"])"
     ],
     "language": "python",
     "metadata": {},
     "outputs": [],
     "prompt_number": 138
    },
    {
     "cell_type": "code",
     "collapsed": false,
     "input": [
      "def withProb(x):\n",
      "    if random.random() < x:\n",
      "        return 1\n",
      "    else:\n",
      "        return 0"
     ],
     "language": "python",
     "metadata": {},
     "outputs": [],
     "prompt_number": 139
    },
    {
     "cell_type": "code",
     "collapsed": false,
     "input": [
      "def encodeDayOfWeek(day):\n",
      "    \"\"\"\n",
      "    Returns a 1-to-K encoding of Day of Week. \n",
      "    \n",
      "    example:\n",
      "    day = \"Sunday\"\n",
      "    returns [1, 0, 0, 0, 0, 0, 0]\n",
      "    \"\"\"\n",
      "    day_of_week = [\"Sunday\",\"Monday\",\"Tuesday\",\"Wednesday\",\"Thursday\",\"Friday\",\"Saturday\"]\n",
      "    encoded_vector = [0 for i in range(len(day_of_week))] # Setup m binary features\n",
      "    encoded_vector[ day_of_week.index(day) ] = 1 # Activate only one\n",
      "    return encoded_vector\n",
      "    \n",
      "encodeDayOfWeek(\"Tuesday\")"
     ],
     "language": "python",
     "metadata": {},
     "outputs": [
      {
       "metadata": {},
       "output_type": "pyout",
       "prompt_number": 140,
       "text": [
        "[0, 0, 1, 0, 0, 0, 0]"
       ]
      }
     ],
     "prompt_number": 140
    },
    {
     "cell_type": "code",
     "collapsed": false,
     "input": [
      "def encodeBC(booking_class):\n",
      "    \"\"\" Returns a 1-to-K encoding of BC.\"\"\"\n",
      "    bc_hierarchy_economy = ['Y',\n",
      "                            'H',\n",
      "                            'M',\n",
      "                            'L',\n",
      "                            'B',\n",
      "                            'K',\n",
      "                            'X',\n",
      "                            'Q',\n",
      "                            'V',\n",
      "                            'E',\n",
      "                            'S',\n",
      "                            'N',\n",
      "                            'O',\n",
      "                            'T',\n",
      "                            'U',\n",
      "                            'Z',\n",
      "                            'G',\n",
      "                            'W',\n",
      "                            'J',\n",
      "                            'C',\n",
      "                            'D',\n",
      "                            'I',\n",
      "                            'P',\n",
      "                            'R']\n",
      "    encoded_vector = [0 for i in range(len(bc_hierarchy_economy))] # Setup m binary features\n",
      "    active_index = bc_hierarchy_economy.index(booking_class)\n",
      "    encoded_vector[ active_index ] = 1 # Activate only one \n",
      "    return encoded_vector\n",
      "\n",
      "encodeBC('Y')"
     ],
     "language": "python",
     "metadata": {},
     "outputs": [
      {
       "metadata": {},
       "output_type": "pyout",
       "prompt_number": 195,
       "text": [
        "[1, 0, 0, 0, 0, 0, 0, 0, 0, 0, 0, 0, 0, 0, 0, 0, 0, 0, 0, 0, 0, 0, 0, 0]"
       ]
      }
     ],
     "prompt_number": 195
    },
    {
     "cell_type": "code",
     "collapsed": false,
     "input": [
      "X_train = None\n",
      "y_train = None\n",
      "X_test = None\n",
      "y_test = None"
     ],
     "language": "python",
     "metadata": {},
     "outputs": [],
     "prompt_number": 182
    },
    {
     "cell_type": "code",
     "collapsed": false,
     "input": [
      "num_interpolated_timesteps = 101\n",
      "keyday_interp = np.linspace(-300,0,num_interpolated_timesteps)\n",
      "\n",
      "for uniqueflt, uniqueflt_df in n.f.getUniqueFlights(firstflight):\n",
      "    \n",
      "    adding_to_training = withProb(0.7)  # Will this unique flight be added to Training or Test Set?\n",
      "    date, flt, org, des = uniqueflt\n",
      "    day_of_week = Utils.date2DayOfWeek(date)\n",
      "    enc_day_of_week = encodeDayOfWeek(day_of_week)\n",
      "    \n",
      "    BC_vs_KEYDAY_matrix\n",
      "    \n",
      "    for uniquebc, uniquebc_df in uniqueflt_df.groupby('BC'):\n",
      "        enc_bc = encodeBC(uniquebc)\n",
      "        \n",
      "        keyday_obsrvd = np.array( -uniquebc_df['KEYDAY']  )\n",
      "\n",
      "        bkd_obsrvd = np.array( uniquebc_df['BKD'] )\n",
      "        bkd_interp = n.interp( keyday_interp, keyday_obsrvd, bkd_obsrvd )\n",
      "        \n",
      "        auth_obsrvd = np.array( uniquebc_df['AUTH'] )\n",
      "        auth_interp = n.interp( keyday_interp, keyday_obsrvd, auth_obsrvd )\n",
      "    \n",
      "        avail_obsrvd = np.array( uniquebc_df['AVAIL'] )\n",
      "        avail_interp = n.interp( keyday_interp, keyday_obsrvd, avail_obsrvd )\n",
      "        \n",
      "        deltabkd_interp = np.diff(bkd_interp) # deltaBKD = bkd_t2 - bkd_t1\n",
      "        \n",
      "        X_interp = np.column_stack((bkd_interp[1:],avail_interp[1:],auth_interp[1:],keyday_interp[1:]))\n",
      "        m_rows, n_cols = X_interp.shape\n",
      "        \n",
      "        # Create a encoded categorical description for all the interpolated keydays in this uniquefltbc\n",
      "        flattened_categorical_features = []\n",
      "        for i in range(m_rows):\n",
      "            categorical_features_for_row = np.array(enc_day_of_week + enc_bc) \n",
      "            flattened_categorical_features.append(categorical_features_for_row)\n",
      "        categorical_features_matrix = np.vstack(flattened_categorical_features)\n",
      "        \n",
      "        X = np.hstack((feature_matrix, X_interp))\n",
      "        y = deltabkd_interp\n",
      "        \n",
      "        if adding_to_training:\n",
      "            X_train = np.vstack([X_train, X]) if X_train is not None else X\n",
      "            y_train = np.concatenate([y_train, y]) if y_train is not None else y\n",
      "        else:\n",
      "            X_test = np.vstack([X_test, X]) if X_test is not None else X\n",
      "            y_test = np.concatenate([y_test, y]) if y_test is not None else y\n",
      "        os.sys.stdout.write('.')\n",
      "    os.sys.stdout.write('|')\n",
      "    "
     ],
     "language": "python",
     "metadata": {},
     "outputs": [
      {
       "output_type": "stream",
       "stream": "stdout",
       "text": [
        "............."
       ]
      },
      {
       "output_type": "stream",
       "stream": "stdout",
       "text": [
        ".|........|..."
       ]
      },
      {
       "output_type": "stream",
       "stream": "stdout",
       "text": [
        "......|....."
       ]
      },
      {
       "output_type": "stream",
       "stream": "stdout",
       "text": [
        "......|......"
       ]
      },
      {
       "output_type": "stream",
       "stream": "stdout",
       "text": [
        "......|......"
       ]
      },
      {
       "output_type": "stream",
       "stream": "stdout",
       "text": [
        ".....|......."
       ]
      },
      {
       "output_type": "stream",
       "stream": "stdout",
       "text": [
        "......|......"
       ]
      },
      {
       "output_type": "stream",
       "stream": "stdout",
       "text": [
        ".....|......."
       ]
      },
      {
       "output_type": "stream",
       "stream": "stdout",
       "text": [
        "|.........."
       ]
      },
      {
       "output_type": "stream",
       "stream": "stdout",
       "text": [
        "....|......."
       ]
      },
      {
       "output_type": "stream",
       "stream": "stdout",
       "text": [
        "...|........."
       ]
      },
      {
       "output_type": "stream",
       "stream": "stdout",
       "text": [
        "....|......."
       ]
      },
      {
       "output_type": "stream",
       "stream": "stdout",
       "text": [
        "........|..."
       ]
      },
      {
       "output_type": "stream",
       "stream": "stdout",
       "text": [
        "......|...."
       ]
      },
      {
       "output_type": "stream",
       "stream": "stdout",
       "text": [
        ".......|...."
       ]
      },
      {
       "output_type": "stream",
       "stream": "stdout",
       "text": [
        "......|....."
       ]
      },
      {
       "output_type": "stream",
       "stream": "stdout",
       "text": [
        ".......|..."
       ]
      },
      {
       "output_type": "stream",
       "stream": "stdout",
       "text": [
        ".........|."
       ]
      },
      {
       "output_type": "stream",
       "stream": "stdout",
       "text": [
        ".........."
       ]
      },
      {
       "output_type": "stream",
       "stream": "stdout",
       "text": [
        "|........."
       ]
      },
      {
       "output_type": "stream",
       "stream": "stdout",
       "text": [
        "..|.........."
       ]
      },
      {
       "output_type": "stream",
       "stream": "stdout",
       "text": [
        "..|.........."
       ]
      },
      {
       "output_type": "stream",
       "stream": "stdout",
       "text": [
        "..|........"
       ]
      },
      {
       "output_type": "stream",
       "stream": "stdout",
       "text": [
        "..|........."
       ]
      },
      {
       "output_type": "stream",
       "stream": "stdout",
       "text": [
        "..|........"
       ]
      },
      {
       "output_type": "stream",
       "stream": "stdout",
       "text": [
        ".....|...."
       ]
      },
      {
       "output_type": "stream",
       "stream": "stdout",
       "text": [
        ".........."
       ]
      },
      {
       "output_type": "stream",
       "stream": "stdout",
       "text": [
        ".|.........."
       ]
      },
      {
       "output_type": "stream",
       "stream": "stdout",
       "text": [
        "...|......"
       ]
      },
      {
       "output_type": "stream",
       "stream": "stdout",
       "text": [
        "......|...."
       ]
      },
      {
       "output_type": "stream",
       "stream": "stdout",
       "text": [
        ".........|.."
       ]
      },
      {
       "output_type": "stream",
       "stream": "stdout",
       "text": [
        "........."
       ]
      },
      {
       "output_type": "stream",
       "stream": "stdout",
       "text": [
        "|........"
       ]
      },
      {
       "output_type": "stream",
       "stream": "stdout",
       "text": [
        "....|....."
       ]
      },
      {
       "output_type": "stream",
       "stream": "stdout",
       "text": [
        ".......|.."
       ]
      },
      {
       "output_type": "stream",
       "stream": "stdout",
       "text": [
        "......|...."
       ]
      },
      {
       "output_type": "stream",
       "stream": "stdout",
       "text": [
        ".....|...."
       ]
      },
      {
       "output_type": "stream",
       "stream": "stdout",
       "text": [
        "........."
       ]
      },
      {
       "output_type": "stream",
       "stream": "stdout",
       "text": [
        ".|......."
       ]
      },
      {
       "output_type": "stream",
       "stream": "stdout",
       "text": [
        ".......|."
       ]
      },
      {
       "output_type": "stream",
       "stream": "stdout",
       "text": [
        "........"
       ]
      },
      {
       "output_type": "stream",
       "stream": "stdout",
       "text": [
        "....|...."
       ]
      },
      {
       "output_type": "stream",
       "stream": "stdout",
       "text": [
        "........"
       ]
      },
      {
       "output_type": "stream",
       "stream": "stdout",
       "text": [
        "|......."
       ]
      },
      {
       "output_type": "stream",
       "stream": "stdout",
       "text": [
        "...|....."
       ]
      },
      {
       "output_type": "stream",
       "stream": "stdout",
       "text": [
        "........"
       ]
      },
      {
       "output_type": "stream",
       "stream": "stdout",
       "text": [
        "..|......"
       ]
      },
      {
       "output_type": "stream",
       "stream": "stdout",
       "text": [
        "..|........"
       ]
      },
      {
       "output_type": "stream",
       "stream": "stdout",
       "text": [
        ".....|..."
       ]
      },
      {
       "output_type": "stream",
       "stream": "stdout",
       "text": [
        "........"
       ]
      },
      {
       "output_type": "stream",
       "stream": "stdout",
       "text": [
        ".....|.."
       ]
      },
      {
       "output_type": "stream",
       "stream": "stdout",
       "text": [
        ".......|."
       ]
      },
      {
       "output_type": "stream",
       "stream": "stdout",
       "text": [
        "........"
       ]
      },
      {
       "output_type": "stream",
       "stream": "stdout",
       "text": [
        "....|..."
       ]
      },
      {
       "output_type": "stream",
       "stream": "stdout",
       "text": [
        "......|.."
       ]
      },
      {
       "output_type": "stream",
       "stream": "stdout",
       "text": [
        "........"
       ]
      },
      {
       "output_type": "stream",
       "stream": "stdout",
       "text": [
        "....|..."
       ]
      },
      {
       "output_type": "stream",
       "stream": "stdout",
       "text": [
        "........"
       ]
      },
      {
       "output_type": "stream",
       "stream": "stdout",
       "text": [
        "|.......|.."
       ]
      },
      {
       "output_type": "stream",
       "stream": "stdout",
       "text": [
        "........"
       ]
      },
      {
       "output_type": "stream",
       "stream": "stdout",
       "text": [
        "..|....."
       ]
      },
      {
       "output_type": "stream",
       "stream": "stdout",
       "text": [
        ".......|."
       ]
      },
      {
       "output_type": "stream",
       "stream": "stdout",
       "text": [
        "......|..."
       ]
      },
      {
       "output_type": "stream",
       "stream": "stdout",
       "text": [
        "......."
       ]
      },
      {
       "output_type": "stream",
       "stream": "stdout",
       "text": [
        "....|..."
       ]
      },
      {
       "output_type": "stream",
       "stream": "stdout",
       "text": [
        "......."
       ]
      },
      {
       "output_type": "stream",
       "stream": "stdout",
       "text": [
        "..|........"
       ]
      },
      {
       "output_type": "stream",
       "stream": "stdout",
       "text": [
        "......|...."
       ]
      },
      {
       "output_type": "stream",
       "stream": "stdout",
       "text": [
        ".........|."
       ]
      },
      {
       "output_type": "stream",
       "stream": "stdout",
       "text": [
        "......."
       ]
      },
      {
       "output_type": "stream",
       "stream": "stdout",
       "text": [
        "......|."
       ]
      },
      {
       "output_type": "stream",
       "stream": "stdout",
       "text": [
        "......."
       ]
      },
      {
       "output_type": "stream",
       "stream": "stdout",
       "text": [
        "......."
       ]
      },
      {
       "output_type": "stream",
       "stream": "stdout",
       "text": [
        "|........."
       ]
      },
      {
       "output_type": "stream",
       "stream": "stdout",
       "text": [
        "....|...."
       ]
      },
      {
       "output_type": "stream",
       "stream": "stdout",
       "text": [
        "......."
       ]
      },
      {
       "output_type": "stream",
       "stream": "stdout",
       "text": [
        ".|......"
       ]
      },
      {
       "output_type": "stream",
       "stream": "stdout",
       "text": [
        "......."
       ]
      },
      {
       "output_type": "stream",
       "stream": "stdout",
       "text": [
        "..|....."
       ]
      },
      {
       "output_type": "stream",
       "stream": "stdout",
       "text": [
        "......."
       ]
      },
      {
       "output_type": "stream",
       "stream": "stdout",
       "text": [
        "...|...."
       ]
      },
      {
       "output_type": "stream",
       "stream": "stdout",
       "text": [
        "......."
       ]
      },
      {
       "output_type": "stream",
       "stream": "stdout",
       "text": [
        ".....|.."
       ]
      },
      {
       "output_type": "stream",
       "stream": "stdout",
       "text": [
        "......."
       ]
      },
      {
       "output_type": "stream",
       "stream": "stdout",
       "text": [
        "|......"
       ]
      },
      {
       "output_type": "stream",
       "stream": "stdout",
       "text": [
        "......|."
       ]
      },
      {
       "output_type": "stream",
       "stream": "stdout",
       "text": [
        "......|."
       ]
      },
      {
       "output_type": "stream",
       "stream": "stdout",
       "text": [
        "......."
       ]
      },
      {
       "output_type": "stream",
       "stream": "stdout",
       "text": [
        "...|....."
       ]
      },
      {
       "output_type": "stream",
       "stream": "stdout",
       "text": [
        ".........."
       ]
      },
      {
       "output_type": "stream",
       "stream": "stdout",
       "text": [
        "|......"
       ]
      },
      {
       "output_type": "stream",
       "stream": "stdout",
       "text": [
        ".....|.."
       ]
      },
      {
       "output_type": "stream",
       "stream": "stdout",
       "text": [
        "......."
       ]
      },
      {
       "output_type": "stream",
       "stream": "stdout",
       "text": [
        "....|.."
       ]
      },
      {
       "output_type": "stream",
       "stream": "stdout",
       "text": [
        "......"
       ]
      },
      {
       "output_type": "stream",
       "stream": "stdout",
       "text": [
        "....|.."
       ]
      },
      {
       "output_type": "stream",
       "stream": "stdout",
       "text": [
        "......"
       ]
      },
      {
       "output_type": "stream",
       "stream": "stdout",
       "text": [
        "......"
       ]
      },
      {
       "output_type": "stream",
       "stream": "stdout",
       "text": [
        "|....."
       ]
      },
      {
       "output_type": "stream",
       "stream": "stdout",
       "text": [
        ".....|."
       ]
      },
      {
       "output_type": "stream",
       "stream": "stdout",
       "text": [
        "........."
       ]
      },
      {
       "output_type": "stream",
       "stream": "stdout",
       "text": [
        "..|....."
       ]
      },
      {
       "output_type": "stream",
       "stream": "stdout",
       "text": [
        "......"
       ]
      },
      {
       "output_type": "stream",
       "stream": "stdout",
       "text": [
        "....|..."
       ]
      },
      {
       "output_type": "stream",
       "stream": "stdout",
       "text": [
        "........."
       ]
      },
      {
       "output_type": "stream",
       "stream": "stdout",
       "text": [
        ".|....."
       ]
      },
      {
       "output_type": "stream",
       "stream": "stdout",
       "text": [
        "......"
       ]
      },
      {
       "output_type": "stream",
       "stream": "stdout",
       "text": [
        "..|...."
       ]
      },
      {
       "output_type": "stream",
       "stream": "stdout",
       "text": [
        "......"
       ]
      },
      {
       "output_type": "stream",
       "stream": "stdout",
       "text": [
        "....|.."
       ]
      },
      {
       "output_type": "stream",
       "stream": "stdout",
       "text": [
        "......"
       ]
      },
      {
       "output_type": "stream",
       "stream": "stdout",
       "text": [
        "....|.."
       ]
      },
      {
       "output_type": "stream",
       "stream": "stdout",
       "text": [
        "......"
       ]
      },
      {
       "output_type": "stream",
       "stream": "stdout",
       "text": [
        ".....|."
       ]
      },
      {
       "output_type": "stream",
       "stream": "stdout",
       "text": [
        "......"
       ]
      },
      {
       "output_type": "stream",
       "stream": "stdout",
       "text": [
        ".....|."
       ]
      },
      {
       "output_type": "stream",
       "stream": "stdout",
       "text": [
        "......"
       ]
      },
      {
       "output_type": "stream",
       "stream": "stdout",
       "text": [
        "..|...."
       ]
      },
      {
       "output_type": "stream",
       "stream": "stdout",
       "text": [
        "......"
       ]
      },
      {
       "output_type": "stream",
       "stream": "stdout",
       "text": [
        "....|.."
       ]
      },
      {
       "output_type": "stream",
       "stream": "stdout",
       "text": [
        "........."
       ]
      },
      {
       "output_type": "stream",
       "stream": "stdout",
       "text": [
        ".|......."
       ]
      },
      {
       "output_type": "stream",
       "stream": "stdout",
       "text": [
        ".......|."
       ]
      },
      {
       "output_type": "stream",
       "stream": "stdout",
       "text": [
        "......"
       ]
      },
      {
       "output_type": "stream",
       "stream": "stdout",
       "text": [
        ".....|."
       ]
      },
      {
       "output_type": "stream",
       "stream": "stdout",
       "text": [
        "......"
       ]
      },
      {
       "output_type": "stream",
       "stream": "stdout",
       "text": [
        "......"
       ]
      },
      {
       "output_type": "stream",
       "stream": "stdout",
       "text": [
        "|....."
       ]
      },
      {
       "output_type": "stream",
       "stream": "stdout",
       "text": [
        "......"
       ]
      },
      {
       "output_type": "stream",
       "stream": "stdout",
       "text": [
        ".|........"
       ]
      },
      {
       "output_type": "stream",
       "stream": "stdout",
       "text": [
        "......|.."
       ]
      },
      {
       "output_type": "stream",
       "stream": "stdout",
       "text": [
        "......"
       ]
      },
      {
       "output_type": "stream",
       "stream": "stdout",
       "text": [
        ".....|."
       ]
      },
      {
       "output_type": "stream",
       "stream": "stdout",
       "text": [
        "......"
       ]
      },
      {
       "output_type": "stream",
       "stream": "stdout",
       "text": [
        "....|.."
       ]
      },
      {
       "output_type": "stream",
       "stream": "stdout",
       "text": [
        "........."
       ]
      },
      {
       "output_type": "stream",
       "stream": "stdout",
       "text": [
        "|......."
       ]
      },
      {
       "output_type": "stream",
       "stream": "stdout",
       "text": [
        "...|..."
       ]
      },
      {
       "output_type": "stream",
       "stream": "stdout",
       "text": [
        "......"
       ]
      },
      {
       "output_type": "stream",
       "stream": "stdout",
       "text": [
        ".|...."
       ]
      },
      {
       "output_type": "stream",
       "stream": "stdout",
       "text": [
        "......"
       ]
      },
      {
       "output_type": "stream",
       "stream": "stdout",
       "text": [
        "....|.."
       ]
      },
      {
       "output_type": "stream",
       "stream": "stdout",
       "text": [
        ".......|."
       ]
      },
      {
       "output_type": "stream",
       "stream": "stdout",
       "text": [
        "........"
       ]
      },
      {
       "output_type": "stream",
       "stream": "stdout",
       "text": [
        "....|..."
       ]
      },
      {
       "output_type": "stream",
       "stream": "stdout",
       "text": [
        "......"
       ]
      },
      {
       "output_type": "stream",
       "stream": "stdout",
       "text": [
        "|...."
       ]
      },
      {
       "output_type": "stream",
       "stream": "stdout",
       "text": [
        "....|.."
       ]
      },
      {
       "output_type": "stream",
       "stream": "stdout",
       "text": [
        "........"
       ]
      },
      {
       "output_type": "stream",
       "stream": "stdout",
       "text": [
        "....|..."
       ]
      },
      {
       "output_type": "stream",
       "stream": "stdout",
       "text": [
        "......"
       ]
      },
      {
       "output_type": "stream",
       "stream": "stdout",
       "text": [
        ".|...."
       ]
      },
      {
       "output_type": "stream",
       "stream": "stdout",
       "text": [
        "......"
       ]
      },
      {
       "output_type": "stream",
       "stream": "stdout",
       "text": [
        "..|..."
       ]
      },
      {
       "output_type": "stream",
       "stream": "stdout",
       "text": [
        "....."
       ]
      },
      {
       "output_type": "stream",
       "stream": "stdout",
       "text": [
        ".|...."
       ]
      },
      {
       "output_type": "stream",
       "stream": "stdout",
       "text": [
        "....|."
       ]
      },
      {
       "output_type": "stream",
       "stream": "stdout",
       "text": [
        "....."
       ]
      },
      {
       "output_type": "stream",
       "stream": "stdout",
       "text": [
        "....."
       ]
      },
      {
       "output_type": "stream",
       "stream": "stdout",
       "text": [
        "..|..."
       ]
      },
      {
       "output_type": "stream",
       "stream": "stdout",
       "text": [
        "....."
       ]
      },
      {
       "output_type": "stream",
       "stream": "stdout",
       "text": [
        "....."
       ]
      },
      {
       "output_type": "stream",
       "stream": "stdout",
       "text": [
        ".|...."
       ]
      },
      {
       "output_type": "stream",
       "stream": "stdout",
       "text": [
        "....."
       ]
      },
      {
       "output_type": "stream",
       "stream": "stdout",
       "text": [
        "....."
       ]
      },
      {
       "output_type": "stream",
       "stream": "stdout",
       "text": [
        "|......."
       ]
      },
      {
       "output_type": "stream",
       "stream": "stdout",
       "text": [
        "..|...."
       ]
      },
      {
       "output_type": "stream",
       "stream": "stdout",
       "text": [
        "....."
       ]
      },
      {
       "output_type": "stream",
       "stream": "stdout",
       "text": [
        "...|"
       ]
      }
     ],
     "prompt_number": 190
    },
    {
     "cell_type": "code",
     "collapsed": false,
     "input": [
      "print X_train.shape, X_test.shape, y_train.shape, y_test.shape\n"
     ],
     "language": "python",
     "metadata": {},
     "outputs": [
      {
       "output_type": "stream",
       "stream": "stdout",
       "text": [
        "(96500, 35) (33900, 35) (96500,) (33900,)\n"
       ]
      }
     ],
     "prompt_number": 194
    },
    {
     "cell_type": "code",
     "collapsed": false,
     "input": [
      "def meanAbsoluteError(ground_truth, predictions):\n",
      "    diff = np.abs(ground_truth - predictions)\n",
      "    return np.sum(diff)/np.size(diff)"
     ],
     "language": "python",
     "metadata": {},
     "outputs": [],
     "prompt_number": 198
    },
    {
     "cell_type": "code",
     "collapsed": false,
     "input": [
      "from sklearn.linear_model import LinearRegression, Ridge\n",
      "from sklearn.ensemble import RandomForestRegressor\n",
      "model = RandomForestRegressor()\n",
      "model.fit(X_train, y_train)\n",
      "y_predict = model.predict(X_test)\n",
      "\n",
      "print \"\\nMeanAbsoluteError (units of BKG per 3 days): \" + str(meanAbsoluteError(y_test,y_predict))"
     ],
     "language": "python",
     "metadata": {},
     "outputs": [
      {
       "output_type": "stream",
       "stream": "stdout",
       "text": [
        "\n",
        "MeanAbsoluteError (units of BKG per 3 days: 0.245630294128\n"
       ]
      },
      {
       "metadata": {},
       "output_type": "display_data",
       "png": "[encoded data removed]",
       "text": [
        "<matplotlib.figure.Figure at 0x16f7ca50>"
       ]
      }
     ],
     "prompt_number": 222
    },
    {
     "cell_type": "code",
     "collapsed": false,
     "input": [
      "from sklearn.metrics import r2_score\n",
      "r2_score(y_test, y_predict)\n"
     ],
     "language": "python",
     "metadata": {},
     "outputs": [
      {
       "metadata": {},
       "output_type": "pyout",
       "prompt_number": 266,
       "text": [
        "-0.036158247858846249"
       ]
      }
     ],
     "prompt_number": 266
    },
    {
     "cell_type": "code",
     "collapsed": false,
     "input": [
      "model.feature_importances_"
     ],
     "language": "python",
     "metadata": {},
     "outputs": [
      {
       "metadata": {},
       "output_type": "pyout",
       "prompt_number": 259,
       "text": [
        "array([ 0.        ,  0.        ,  0.        ,  0.        ,  0.        ,\n",
        "        0.        ,  0.        ,  0.        ,  0.        ,  0.        ,\n",
        "        0.        ,  0.        ,  0.        ,  0.        ,  0.        ,\n",
        "        0.        ,  0.        ,  0.        ,  0.        ,  0.        ,\n",
        "        0.        ,  0.        ,  0.        ,  0.        ,  0.        ,\n",
        "        0.        ,  0.        ,  0.        ,  0.        ,  0.        ,\n",
        "        0.        ,  0.90395727,  0.01415185,  0.00632197,  0.0755689 ])"
       ]
      }
     ],
     "prompt_number": 259
    },
    {
     "cell_type": "code",
     "collapsed": false,
     "input": [
      "result_dir = os.path.join(os.path.abspath(\".\"),\"Results/deltaBKD/RandomForestRegressor/\")\n",
      "\n",
      "for index in range(len(y_test)/100):\n",
      "    plt.clf()\n",
      "    plt.hold(True)\n",
      "    plt.plot(keyday_interp[1:],y_test[100*index:100*(index+1)])\n",
      "    plt.plot(keyday_interp[1:],y_predict[100*index:100*(index+1)])\n",
      "    plt.legend(['test','predict'],loc=3)\n",
      "    plt.xlabel('-KEYDAY from Departure')\n",
      "    plt.ylabel('delta BKD')\n",
      "    plt.savefig(result_dir + str(index))\n"
     ],
     "language": "python",
     "metadata": {},
     "outputs": [
      {
       "metadata": {},
       "output_type": "display_data",
       "png": "[encoded data removed]",
       "text": [
        "<matplotlib.figure.Figure at 0x122f8190>"
       ]
      }
     ],
     "prompt_number": 258
    },
    {
     "cell_type": "code",
     "collapsed": false,
     "input": [
      "total = float(len(cum_deltabkd))\n",
      "mid = len([x for x in cum_deltabkd if x >= 0 and x < 3])\n",
      "neg = len([x for x in cum_deltabkd if x < 0])\n",
      "pos = len([x for x in cum_deltabkd if x > 3])\n",
      "\n",
      "print neg / total\n",
      "print mid / total\n",
      "print pos / total"
     ],
     "language": "python",
     "metadata": {},
     "outputs": []
    },
    {
     "cell_type": "code",
     "collapsed": false,
     "input": [
      "import thinkstats2\n",
      "import thinkplot\n",
      "\n",
      "cdf = thinkstats2.MakeCdfFromList(cum_deltabkd_obsrvd)\n",
      "\n",
      "# cdf = thinkstats2.MakeCdfFromList([x for x in cum_deltabkd if x >= 0 and x < 2],'Stevie Cum')\n",
      "thinkplot.Cdf(cdf)\n",
      "thinkplot.show()"
     ],
     "language": "python",
     "metadata": {},
     "outputs": []
    },
    {
     "cell_type": "code",
     "collapsed": false,
     "input": [
      "plt.plot(keyday_interp, bkd_interp, '.')\n",
      "plt.show()"
     ],
     "language": "python",
     "metadata": {},
     "outputs": []
    }
   ],
   "metadata": {}
  }
 ]
}