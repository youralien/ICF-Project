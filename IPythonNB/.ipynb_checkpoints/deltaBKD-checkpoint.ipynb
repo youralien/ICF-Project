{
 "metadata": {
  "name": ""
 },
 "nbformat": 3,
 "nbformat_minor": 0,
 "worksheets": [
  {
   "cells": [
    {
     "cell_type": "code",
     "collapsed": false,
     "input": [
      "cd ~/DataScience/ICF-Project/"
     ],
     "language": "python",
     "metadata": {},
     "outputs": [
      {
       "output_type": "stream",
       "stream": "stdout",
       "text": [
        "/home/rlouie/DataScience/ICF-Project\n"
       ]
      }
     ],
     "prompt_number": 113
    },
    {
     "cell_type": "code",
     "collapsed": false,
     "input": [
      "\n",
      "import random\n",
      "import numpy as np\n",
      "import pandas as pd\n",
      "import matplotlib.pyplot as plt\n",
      "from sklearn.ensemble import RandomForestClassifier\n",
      "from sklearn.metrics import accuracy_score\n",
      "\n",
      "from FeatureFilter import FeatureFilter\n",
      "from Utils import Utils\n",
      "from Visualizer import Visualizer\n",
      "from Network import Network"
     ],
     "language": "python",
     "metadata": {},
     "outputs": [],
     "prompt_number": 164
    },
    {
     "cell_type": "code",
     "collapsed": false,
     "input": [
      "num_records = 'all'\n",
      "normalized = 'Data/Normalized_BKGDAT_Filtered_ZeroTOTALBKD.txt'\n",
      "unnormalized = 'Data/BKGDAT_ZeroTOTALBKD.txt'\n",
      "filename = unnormalized\n",
      "n = Network(num_records, filename)\n",
      "v = Visualizer()"
     ],
     "language": "python",
     "metadata": {},
     "outputs": [],
     "prompt_number": 152
    },
    {
     "cell_type": "code",
     "collapsed": false,
     "input": [
      "firstflight = n.f.getDrillDown(orgs=['DXB'],dests=['DMM'])\n",
      "ff = firstflight\n",
      "print type(ff)"
     ],
     "language": "python",
     "metadata": {},
     "outputs": [
      {
       "output_type": "stream",
       "stream": "stdout",
       "text": [
        "<class 'pandas.core.frame.DataFrame'>\n"
       ]
      }
     ],
     "prompt_number": 148
    },
    {
     "cell_type": "code",
     "collapsed": false,
     "input": [
      "%matplotlib inline"
     ],
     "language": "python",
     "metadata": {},
     "outputs": [],
     "prompt_number": 118
    },
    {
     "cell_type": "code",
     "collapsed": false,
     "input": [
      "def withProb(x):\n",
      "    if random.random() < x:\n",
      "        return 1\n",
      "    else:\n",
      "        return 0"
     ],
     "language": "python",
     "metadata": {},
     "outputs": [],
     "prompt_number": 158
    },
    {
     "cell_type": "code",
     "collapsed": false,
     "input": [
      "from sklearn.preprocessing import LabelEncoder, OneHotEncoder\n",
      "\n",
      "cum_deltabkd_interp = []\n",
      "cum_deltabkd_obsrvd = []\n",
      "\n",
      "train_X = None\n",
      "train_y = None\n",
      "test_X = None\n",
      "test_y = None\n",
      "\n",
      "\n",
      "\n",
      "for group, df in n.f.getUniqueFlightsAndBookings(ff):\n",
      "    \n",
      "    print df\n",
      "    keyday_obsrvd = np.array( -df['KEYDAY'] )\n",
      "    \n",
      "    # Unnormalized\n",
      "    keyday_interp = np.linspace(-300, 0, 101 )\n",
      "\n",
      "#     # Normalized \n",
      "#     keyday_interp = np.linspace( -1, 0, 101 ) # Interpolate every 3 unnormalized keydays\n",
      "    \n",
      "    # Interpolate BKD\n",
      "    bkd_obsrvd = np.array( df['BKD'] )\n",
      "    bkd_interp = n.interp( keyday_interp, keyday_obsrvd, bkd_obsrvd )\n",
      "    \n",
      "    # Interpolate AUTH\n",
      "    auth_obsrvd = np.array( df['AUTH'] )\n",
      "    auth_interp = n.interp( keyday_interp, keyday_obsrvd, auth_obsrvd )\n",
      "    \n",
      "    # Interpolate AVAIL\n",
      "    avail_obsrvd = np.array( df['AVAIL'] )\n",
      "    avail_interp = n.interp( keyday_interp, keyday_obsrvd, avail_obsrvd )\n",
      "    \n",
      "    keyday_obsrvd, bkd_obsrvd = zip(*sorted(zip(keyday_obsrvd, bkd_obsrvd), key=lambda tup: tup[0]))\n",
      "    \n",
      "    # deltaBKD = Y1 - Y2\n",
      "    deltabkd_interp = np.diff(bkd_interp)\n",
      "    deltabkd_obsrvd = np.diff(bkd_obsrvd)\n",
      "    cum_deltabkd_interp.extend(deltabkd_interp)\n",
      "    cum_deltabkd_obsrvd.extend(deltabkd_obsrvd)\n",
      "    \n",
      "    \n",
      "    # Create a Matrix of Interpolated Data\n",
      "    X_interp = np.column_stack((bkd_interp[1:],avail_interp[1:],auth_interp[1:],keyday_interp[1:]))\n",
      "    m_rows, n_cols= X_interp.shape\n",
      "    \n",
      "    date, flt, org, des, bc = group\n",
      "    day_of_week = Utils.date2DayOfWeek(date)    \n",
      "    e\n",
      "    \n",
      "    # Create a Matrix of Particular Flight/BC data \n",
      "    groupby_features = []\n",
      "    for i in range(m_rows):\n",
      "        groupby_features.append(np.array([day_of_week,org,des,bc]))\n",
      "    \n",
      "    group_features = np.vstack(groupby_features)\n",
      "    \n",
      "    X_interp = np.hstack((groupby_features, X_interp))\n",
      "    y_interp = deltabkd_interp\n",
      "    \n",
      "    training = withProb(0.80)\n",
      "    \n",
      "    if training:\n",
      "        if train_y is None:\n",
      "            train_X = X_interp\n",
      "            train_y = y_interp\n",
      "        else:\n",
      "            train_X = np.vstack([train_X, X_interp])\n",
      "            train_y = np.vstack([train_y, y_interp])\n",
      "    else:\n",
      "        if test_y is None:\n",
      "            test_X = X_interp\n",
      "            test_y = y_interp\n",
      "        else:\n",
      "            test_X = np.vstack([test_X, X_interp])\n",
      "            test_y = np.vstack([test_y, y_interp])\n",
      "    \n",
      "\n",
      "feature_labels = [\"DAY_OF_WEEK\", \"ORG\", \"DES\", \"BC\", \"BKD\", \"AVAIL\", \"AUTH\", \"KEYDAY\"]"
     ],
     "language": "python",
     "metadata": {},
     "outputs": [
      {
       "output_type": "stream",
       "stream": "stdout",
       "text": [
        "         DATE  FLT  ORG  DES  CAP BC  BKD  AVAIL  AUTH  KEYDAY  TOTALBKD\n",
        "0    1/1/2013  101  DXB  DMM  120  B    0    111   112     287       117\n",
        "1    1/1/2013  101  DXB  DMM  120  B    0    119   119     203       117\n",
        "2    1/1/2013  101  DXB  DMM  120  B   15     92   121      91       117\n",
        "3    1/1/2013  101  DXB  DMM  120  B   16     77   121      84       117\n",
        "4    1/1/2013  101  DXB  DMM  120  B   18     64   120      70       117\n",
        "5    1/1/2013  101  DXB  DMM  120  B   18     68   121      63       117\n",
        "6    1/1/2013  101  DXB  DMM  120  B   19     54   118      35       117\n",
        "7    1/1/2013  101  DXB  DMM  120  B   20     56   119      42       117\n",
        "8    1/1/2013  101  DXB  DMM  120  B   21     57   138      12       117\n",
        "9    1/1/2013  101  DXB  DMM  120  B   35     26   138       8       117\n",
        "10   1/1/2013  101  DXB  DMM  120  B   59      4   138       2       117\n",
        "357  1/1/2013  101  DXB  DMM  120  B    0    112   112     259       117\n",
        "358  1/1/2013  101  DXB  DMM  120  B   17     74   121      77       117\n",
        "359  1/1/2013  101  DXB  DMM  120  B   21     63   138      13       117\n",
        "360  1/1/2013  101  DXB  DMM  120  B   26     44   138      10       117\n",
        "361  1/1/2013  101  DXB  DMM  120  B   28     21   138       0       117\n",
        "362  1/1/2013  101  DXB  DMM  120  B   28     32   138       9       117\n",
        "363  1/1/2013  101  DXB  DMM  120  B   40     20   138       7       117\n",
        "364  1/1/2013  101  DXB  DMM  120  B   60      0   138       5       117\n",
        "457  1/1/2013  101  DXB  DMM  120  B   17     68   121      56       117\n",
        "458  1/1/2013  101  DXB  DMM  120  B   18     62   121      49       117\n",
        "459  1/1/2013  101  DXB  DMM  120  B   21     47   118      21       117\n",
        "460  1/1/2013  101  DXB  DMM  120  B   26     48   138      11       117\n",
        "461  1/1/2013  101  DXB  DMM  120  B   41     17   138       6       117\n",
        "462  1/1/2013  101  DXB  DMM  120  B   59      0   138       4       117\n",
        "463  1/1/2013  101  DXB  DMM  120  B    7    111   120     147       117\n",
        "662  1/1/2013  101  DXB  DMM  120  B    0     10    10     329       117\n",
        "663  1/1/2013  101  DXB  DMM  120  B    0    111   112     231       117\n",
        "664  1/1/2013  101  DXB  DMM  120  B   12    102   123     119       117\n",
        "665  1/1/2013  101  DXB  DMM  120  B   20     53   118      28       117\n",
        "666  1/1/2013  101  DXB  DMM  120  B   21     63   138      14       117\n",
        "667  1/1/2013  101  DXB  DMM  120  B   38     35   138       1       117\n",
        "668  1/1/2013  101  DXB  DMM  120  B    4    114   120     175       117\n",
        "669  1/1/2013  101  DXB  DMM  120  B   59      1   138       3       117\n"
       ]
      }
     ],
     "prompt_number": 171
    },
    {
     "cell_type": "code",
     "collapsed": false,
     "input": [
      "from sklearn.preprocessing import OneHotEncoder\n",
      "\n",
      "enc = OneHotEncoder()\n",
      "enc.fit?"
     ],
     "language": "python",
     "metadata": {},
     "outputs": [],
     "prompt_number": 168
    },
    {
     "cell_type": "code",
     "collapsed": false,
     "input": [
      "model = RandomForestClassifier()\n",
      "model.fit(train_X, train_y)\n",
      "y_predict = model.predict(test_y)\n",
      "\n",
      "print \"\\naccuracy: \" + str(accuracy_score(y_test,y_predict))"
     ],
     "language": "python",
     "metadata": {},
     "outputs": [
      {
       "ename": "ValueError",
       "evalue": "could not convert string to float: DXB",
       "output_type": "pyerr",
       "traceback": [
        "\u001b[1;31m---------------------------------------------------------------------------\u001b[0m\n\u001b[1;31mValueError\u001b[0m                                Traceback (most recent call last)",
        "\u001b[1;32m<ipython-input-165-5f893a1b72b2>\u001b[0m in \u001b[0;36m<module>\u001b[1;34m()\u001b[0m\n\u001b[0;32m      1\u001b[0m \u001b[0mmodel\u001b[0m \u001b[1;33m=\u001b[0m \u001b[0mRandomForestClassifier\u001b[0m\u001b[1;33m(\u001b[0m\u001b[1;33m)\u001b[0m\u001b[1;33m\u001b[0m\u001b[0m\n\u001b[1;32m----> 2\u001b[1;33m \u001b[0mmodel\u001b[0m\u001b[1;33m.\u001b[0m\u001b[0mfit\u001b[0m\u001b[1;33m(\u001b[0m\u001b[0mtrain_X\u001b[0m\u001b[1;33m,\u001b[0m \u001b[0mtrain_y\u001b[0m\u001b[1;33m)\u001b[0m\u001b[1;33m\u001b[0m\u001b[0m\n\u001b[0m\u001b[0;32m      3\u001b[0m \u001b[0my_predict\u001b[0m \u001b[1;33m=\u001b[0m \u001b[0mmodel\u001b[0m\u001b[1;33m.\u001b[0m\u001b[0mpredict\u001b[0m\u001b[1;33m(\u001b[0m\u001b[0mtest_y\u001b[0m\u001b[1;33m)\u001b[0m\u001b[1;33m\u001b[0m\u001b[0m\n\u001b[0;32m      4\u001b[0m \u001b[1;33m\u001b[0m\u001b[0m\n\u001b[0;32m      5\u001b[0m \u001b[1;32mprint\u001b[0m \u001b[1;34m\"\\naccuracy: \"\u001b[0m \u001b[1;33m+\u001b[0m \u001b[0mstr\u001b[0m\u001b[1;33m(\u001b[0m\u001b[0maccuracy_score\u001b[0m\u001b[1;33m(\u001b[0m\u001b[0my_test\u001b[0m\u001b[1;33m,\u001b[0m\u001b[0my_predict\u001b[0m\u001b[1;33m)\u001b[0m\u001b[1;33m)\u001b[0m\u001b[1;33m\u001b[0m\u001b[0m\n",
        "\u001b[1;32m/usr/local/lib/python2.7/dist-packages/sklearn/ensemble/forest.pyc\u001b[0m in \u001b[0;36mfit\u001b[1;34m(self, X, y, sample_weight)\u001b[0m\n\u001b[0;32m    255\u001b[0m         \u001b[1;31m# Convert data\u001b[0m\u001b[1;33m\u001b[0m\u001b[1;33m\u001b[0m\u001b[0m\n\u001b[0;32m    256\u001b[0m         X, = check_arrays(X, dtype=DTYPE, sparse_format=\"dense\",\n\u001b[1;32m--> 257\u001b[1;33m                           check_ccontiguous=True)\n\u001b[0m\u001b[0;32m    258\u001b[0m \u001b[1;33m\u001b[0m\u001b[0m\n\u001b[0;32m    259\u001b[0m         \u001b[1;31m# Remap output\u001b[0m\u001b[1;33m\u001b[0m\u001b[1;33m\u001b[0m\u001b[0m\n",
        "\u001b[1;32m/usr/local/lib/python2.7/dist-packages/sklearn/utils/validation.pyc\u001b[0m in \u001b[0;36mcheck_arrays\u001b[1;34m(*arrays, **options)\u001b[0m\n\u001b[0;32m    228\u001b[0m             \u001b[1;32melse\u001b[0m\u001b[1;33m:\u001b[0m\u001b[1;33m\u001b[0m\u001b[0m\n\u001b[0;32m    229\u001b[0m                 \u001b[1;32mif\u001b[0m \u001b[0mcheck_ccontiguous\u001b[0m\u001b[1;33m:\u001b[0m\u001b[1;33m\u001b[0m\u001b[0m\n\u001b[1;32m--> 230\u001b[1;33m                     \u001b[0marray\u001b[0m \u001b[1;33m=\u001b[0m \u001b[0mnp\u001b[0m\u001b[1;33m.\u001b[0m\u001b[0mascontiguousarray\u001b[0m\u001b[1;33m(\u001b[0m\u001b[0marray\u001b[0m\u001b[1;33m,\u001b[0m \u001b[0mdtype\u001b[0m\u001b[1;33m=\u001b[0m\u001b[0mdtype\u001b[0m\u001b[1;33m)\u001b[0m\u001b[1;33m\u001b[0m\u001b[0m\n\u001b[0m\u001b[0;32m    231\u001b[0m                 \u001b[1;32melse\u001b[0m\u001b[1;33m:\u001b[0m\u001b[1;33m\u001b[0m\u001b[0m\n\u001b[0;32m    232\u001b[0m                     \u001b[0marray\u001b[0m \u001b[1;33m=\u001b[0m \u001b[0mnp\u001b[0m\u001b[1;33m.\u001b[0m\u001b[0masarray\u001b[0m\u001b[1;33m(\u001b[0m\u001b[0marray\u001b[0m\u001b[1;33m,\u001b[0m \u001b[0mdtype\u001b[0m\u001b[1;33m=\u001b[0m\u001b[0mdtype\u001b[0m\u001b[1;33m)\u001b[0m\u001b[1;33m\u001b[0m\u001b[0m\n",
        "\u001b[1;32m/usr/local/lib/python2.7/dist-packages/numpy/core/numeric.pyc\u001b[0m in \u001b[0;36mascontiguousarray\u001b[1;34m(a, dtype)\u001b[0m\n\u001b[0;32m    546\u001b[0m \u001b[1;33m\u001b[0m\u001b[0m\n\u001b[0;32m    547\u001b[0m     \"\"\"\n\u001b[1;32m--> 548\u001b[1;33m     \u001b[1;32mreturn\u001b[0m \u001b[0marray\u001b[0m\u001b[1;33m(\u001b[0m\u001b[0ma\u001b[0m\u001b[1;33m,\u001b[0m \u001b[0mdtype\u001b[0m\u001b[1;33m,\u001b[0m \u001b[0mcopy\u001b[0m\u001b[1;33m=\u001b[0m\u001b[0mFalse\u001b[0m\u001b[1;33m,\u001b[0m \u001b[0morder\u001b[0m\u001b[1;33m=\u001b[0m\u001b[1;34m'C'\u001b[0m\u001b[1;33m,\u001b[0m \u001b[0mndmin\u001b[0m\u001b[1;33m=\u001b[0m\u001b[1;36m1\u001b[0m\u001b[1;33m)\u001b[0m\u001b[1;33m\u001b[0m\u001b[0m\n\u001b[0m\u001b[0;32m    549\u001b[0m \u001b[1;33m\u001b[0m\u001b[0m\n\u001b[0;32m    550\u001b[0m \u001b[1;32mdef\u001b[0m \u001b[0masfortranarray\u001b[0m\u001b[1;33m(\u001b[0m\u001b[0ma\u001b[0m\u001b[1;33m,\u001b[0m \u001b[0mdtype\u001b[0m\u001b[1;33m=\u001b[0m\u001b[0mNone\u001b[0m\u001b[1;33m)\u001b[0m\u001b[1;33m:\u001b[0m\u001b[1;33m\u001b[0m\u001b[0m\n",
        "\u001b[1;31mValueError\u001b[0m: could not convert string to float: DXB"
       ]
      }
     ],
     "prompt_number": 165
    },
    {
     "cell_type": "code",
     "collapsed": false,
     "input": [
      "total = float(len(cum_deltabkd))\n",
      "mid = len([x for x in cum_deltabkd if x >= 0 and x < 3])\n",
      "neg = len([x for x in cum_deltabkd if x < 0])\n",
      "pos = len([x for x in cum_deltabkd if x > 3])\n",
      "\n",
      "print neg / total\n",
      "print mid / total\n",
      "print pos / total"
     ],
     "language": "python",
     "metadata": {},
     "outputs": [
      {
       "output_type": "stream",
       "stream": "stdout",
       "text": [
        "0.0499395296753\n",
        "0.939379619261\n",
        "0.00858678611422\n"
       ]
      }
     ],
     "prompt_number": 120
    },
    {
     "cell_type": "code",
     "collapsed": false,
     "input": [
      "import thinkstats2\n",
      "import thinkplot\n",
      "\n",
      "cdf = thinkstats2.MakeCdfFromList(cum_deltabkd_obsrvd)\n",
      "\n",
      "# cdf = thinkstats2.MakeCdfFromList([x for x in cum_deltabkd if x >= 0 and x < 2],'Stevie Cum')\n",
      "thinkplot.Cdf(cdf)\n",
      "thinkplot.show()"
     ],
     "language": "python",
     "metadata": {},
     "outputs": [
      {
       "metadata": {},
       "output_type": "display_data",
       "png": "[encoded data removed]",
       "text": [
        "<matplotlib.figure.Figure at 0x1bc43090>"
       ]
      }
     ],
     "prompt_number": 121
    },
    {
     "cell_type": "code",
     "collapsed": false,
     "input": [
      "plt.plot(keyday_interp, bkd_interp, '.')\n",
      "plt.show()"
     ],
     "language": "python",
     "metadata": {},
     "outputs": [
      {
       "metadata": {},
       "output_type": "display_data",
       "png": "[encoded data removed]",
       "text": [
        "<matplotlib.figure.Figure at 0x1bbac050>"
       ]
      }
     ],
     "prompt_number": 122
    }
   ],
   "metadata": {}
  }
 ]
}