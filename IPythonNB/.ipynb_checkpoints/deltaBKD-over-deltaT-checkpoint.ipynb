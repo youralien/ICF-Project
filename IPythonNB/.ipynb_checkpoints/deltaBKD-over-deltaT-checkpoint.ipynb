{
 "metadata": {
  "name": ""
 },
 "nbformat": 3,
 "nbformat_minor": 0,
 "worksheets": [
  {
   "cells": [
    {
     "cell_type": "code",
     "collapsed": false,
     "input": [
      "%matplotlib inline"
     ],
     "language": "python",
     "metadata": {},
     "outputs": [],
     "prompt_number": 1
    },
    {
     "cell_type": "code",
     "collapsed": false,
     "input": [
      "cd .."
     ],
     "language": "python",
     "metadata": {},
     "outputs": [
      {
       "output_type": "stream",
       "stream": "stdout",
       "text": [
        "C:\\Users\\rlouie\\Documents\\GitHub\\ICF-Project\n"
       ]
      }
     ],
     "prompt_number": 15
    },
    {
     "cell_type": "code",
     "collapsed": false,
     "input": [
      "import os\n",
      "import random\n",
      "import numpy as np\n",
      "import pandas as pd\n",
      "import matplotlib.pyplot as plt\n",
      "from sklearn.ensemble import RandomForestClassifier\n",
      "from sklearn.metrics import accuracy_score\n",
      "\n",
      "from FeatureFilter import FeatureFilter\n",
      "from Utils import Utils\n",
      "from Visualizer import Visualizer\n",
      "from Network import Network"
     ],
     "language": "python",
     "metadata": {},
     "outputs": [],
     "prompt_number": 16
    },
    {
     "cell_type": "code",
     "collapsed": false,
     "input": [
      "data_dir = os.path.join(os.path.abspath(\".\"), \"Data/\")"
     ],
     "language": "python",
     "metadata": {},
     "outputs": [],
     "prompt_number": 17
    },
    {
     "cell_type": "raw",
     "metadata": {},
     "source": [
      "We're using num_records of lines. "
     ]
    },
    {
     "cell_type": "code",
     "collapsed": false,
     "input": [
      "num_records = 'all'\n",
      "data_dir = os.path.join(os.path.abspath(\".\"), \"Data/\")\n",
      "normalized = \"Normalized_BKGDAT_Filtered_ZeroTOTALBKD.txt\"\n",
      "unnormalized = \"BKGDAT_ZeroTOTALBKD.txt\"\n",
      "filename = data_dir + unnormalized\n",
      "n = Network(num_records, filename)\n",
      "v = Visualizer()"
     ],
     "language": "python",
     "metadata": {},
     "outputs": [],
     "prompt_number": 18
    },
    {
     "cell_type": "code",
     "collapsed": false,
     "input": [
      "firstflight = n.f.getDrillDown(orgs=['DXB'],dests=['DMM'],cabins=[\"Y\"])"
     ],
     "language": "python",
     "metadata": {},
     "outputs": [],
     "prompt_number": 19
    },
    {
     "cell_type": "code",
     "collapsed": false,
     "input": [
      "def withProb(x):\n",
      "    if random.random() < x:\n",
      "        return 1\n",
      "    else:\n",
      "        return 0"
     ],
     "language": "python",
     "metadata": {},
     "outputs": [],
     "prompt_number": 20
    },
    {
     "cell_type": "code",
     "collapsed": false,
     "input": [
      "def encodeDayOfWeek(day):\n",
      "    \"\"\"\n",
      "    Returns a 1-to-K encoding of Day of Week. \n",
      "    \n",
      "    example:\n",
      "    day = \"Sunday\"\n",
      "    returns [1, 0, 0, 0, 0, 0, 0]\n",
      "    \"\"\"\n",
      "    day_of_week = [\"Sunday\",\"Monday\",\"Tuesday\",\"Wednesday\",\"Thursday\",\"Friday\",\"Saturday\"]\n",
      "    encoded_vector = [0 for i in range(len(day_of_week))] # Setup m binary features\n",
      "    encoded_vector[ day_of_week.index(day) ] = 1 # Activate only one\n",
      "    return encoded_vector\n",
      "    \n",
      "encodeDayOfWeek(\"Tuesday\")"
     ],
     "language": "python",
     "metadata": {},
     "outputs": [
      {
       "metadata": {},
       "output_type": "pyout",
       "prompt_number": 21,
       "text": [
        "[0, 0, 1, 0, 0, 0, 0]"
       ]
      }
     ],
     "prompt_number": 21
    },
    {
     "cell_type": "code",
     "collapsed": false,
     "input": [
      "def encodeBC(booking_class):\n",
      "    \"\"\" Returns a 1-to-K encoding of BC.\"\"\"\n",
      "    bc_hierarchy_economy = ['Y',\n",
      "                            'H',\n",
      "                            'M',\n",
      "                            'L',\n",
      "                            'B',\n",
      "                            'K',\n",
      "                            'X',\n",
      "                            'Q',\n",
      "                            'V',\n",
      "                            'E',\n",
      "                            'S',\n",
      "                            'N',\n",
      "                            'O',\n",
      "                            'T',\n",
      "                            'U',\n",
      "                            'Z',\n",
      "                            'G',\n",
      "                            'W',\n",
      "                            'J',\n",
      "                            'C',\n",
      "                            'D',\n",
      "                            'I',\n",
      "                            'P',\n",
      "                            'R']\n",
      "    encoded_vector = [0 for i in range(len(bc_hierarchy_economy))] # Setup m binary features\n",
      "    active_index = bc_hierarchy_economy.index(booking_class)\n",
      "    encoded_vector[ active_index ] = 1 # Activate only one \n",
      "    return encoded_vector\n",
      "\n",
      "encodeBC('Y')"
     ],
     "language": "python",
     "metadata": {},
     "outputs": [
      {
       "metadata": {},
       "output_type": "pyout",
       "prompt_number": 22,
       "text": [
        "[1, 0, 0, 0, 0, 0, 0, 0, 0, 0, 0, 0, 0, 0, 0, 0, 0, 0, 0, 0, 0, 0, 0, 0]"
       ]
      }
     ],
     "prompt_number": 22
    },
    {
     "cell_type": "code",
     "collapsed": false,
     "input": [
      "X_train = None\n",
      "y_train = None\n",
      "X_test = None\n",
      "y_test = None"
     ],
     "language": "python",
     "metadata": {},
     "outputs": [],
     "prompt_number": 23
    },
    {
     "cell_type": "code",
     "collapsed": false,
     "input": [
      "from sklearn.feature_extraction import DictVectorizer\n",
      "\n",
      "D = []\n",
      "vectorizer_bc = DictVectorizer(sparse=False)\n",
      "\n",
      "for flt, flt_df in n.f.getUniqueFlights(firstflight):\n",
      "    \n",
      "    for bc, bc_df in flt_df.groupby('BC'):\n",
      "        \n",
      "        D.append( { bc : int(Utils.mapBookingClassToCabinHierarchy(bc)[1]) } ) \n",
      "        \n",
      "    X = vectorizer_bc.fit(D)\n",
      "    break"
     ],
     "language": "python",
     "metadata": {},
     "outputs": [],
     "prompt_number": 124
    },
    {
     "cell_type": "code",
     "collapsed": false,
     "input": [
      "print X.vocabulary_\n",
      "\n",
      "\n"
     ],
     "language": "python",
     "metadata": {},
     "outputs": [
      {
       "output_type": "stream",
       "stream": "stdout",
       "text": [
        "{'C': 1, 'B': 0, 'E': 3, 'D': 2, 'H': 4, 'K': 5, 'M': 7, 'L': 6, 'Q': 8, 'W': 10, 'V': 9, 'Y': 12, 'X': 11, 'Z': 13}\n"
       ]
      }
     ],
     "prompt_number": 127
    },
    {
     "cell_type": "code",
     "collapsed": false,
     "input": [
      "cum_deltabkd = []"
     ],
     "language": "python",
     "metadata": {},
     "outputs": [],
     "prompt_number": 24
    },
    {
     "cell_type": "code",
     "collapsed": false,
     "input": [
      "for uniqueflt, uniqueflt_df in n.f.getUniqueFlights(firstflight):\n",
      "    \n",
      "    adding_to_training = withProb(0.7)  # Will this unique flight be added to Training or Test Set?\n",
      "    date, flt, org, des = uniqueflt\n",
      "    day_of_week = Utils.date2DayOfWeek(date)\n",
      "    enc_day_of_week = encodeDayOfWeek(day_of_week)\n",
      "    \n",
      "    for uniquebc, uniquebc_df in uniqueflt_df.groupby('BC'):\n",
      "        \n",
      "        enc_bc = encodeBC(uniquebc)\n",
      "        \n",
      "        keyday = np.array( -uniquebc_df['KEYDAY']  )\n",
      "\n",
      "        bkd = np.array( uniquebc_df['BKD'] )\n",
      "        auth = np.array( uniquebc_df['AUTH'] )\n",
      "        avail = np.array( uniquebc_df['AVAIL'] )\n",
      "        \n",
      "        keyday, bkd, auth, avail = Utils.sortByIndex(keyday, bkd, auth, avail)\n",
      "        \n",
      "        deltaBKD = np.diff(bkd)\n",
      "        cum_deltabkd += deltaBKD\n",
      "        \n",
      "        deltaT = np.diff(keyday)\n",
      "        \n",
      "        X_continuous = np.column_stack((bkd[1:],avail[1:],auth[1:],keyday[1:],deltaT))\n",
      "        m_rows, n_cols = X_continuous.shape\n",
      "        \n",
      "        # Create a encoded categorical description for all the interpolated keydays in this uniquefltbc\n",
      "        flattened_categorical_features = []\n",
      "        for i in range(m_rows):\n",
      "            categorical_features_for_row = np.array(enc_day_of_week + enc_bc) \n",
      "            flattened_categorical_features.append(categorical_features_for_row)\n",
      "        categorical_features_matrix = np.vstack(flattened_categorical_features)\n",
      "        \n",
      "        X = np.hstack((categorical_features_matrix, X_continuous))\n",
      "        y = deltaBKD\n",
      "        \n",
      "        if adding_to_training:\n",
      "            X_train = np.vstack([X_train, X]) if X_train is not None else X\n",
      "            y_train = np.concatenate([y_train, y]) if y_train is not None else y\n",
      "        else:\n",
      "            X_test = np.vstack([X_test, X]) if X_test is not None else X\n",
      "            y_test = np.concatenate([y_test, y]) if y_test is not None else y\n",
      "        os.sys.stdout.write('.')\n",
      "    os.sys.stdout.write('|')\n",
      "    "
     ],
     "language": "python",
     "metadata": {},
     "outputs": [
      {
       "output_type": "stream",
       "stream": "stdout",
       "text": [
        "..............|........|.........|...........|............|...........|......."
       ]
      },
      {
       "output_type": "stream",
       "stream": "stdout",
       "text": [
        "......|...........|.......|..............|..........|.............|........."
       ]
      },
      {
       "output_type": "stream",
       "stream": "stdout",
       "text": [
        "......|.........|...........|..........|............|........."
       ]
      },
      {
       "output_type": "stream",
       "stream": "stdout",
       "text": [
        "...|...........|...........|............|............|..........|......"
       ]
      },
      {
       "output_type": "stream",
       "stream": "stdout",
       "text": [
        ".....|.............|...............|.............|............|..."
       ]
      },
      {
       "output_type": "stream",
       "stream": "stdout",
       "text": [
        "..........|...........|............|............|........|."
       ]
      },
      {
       "output_type": "stream",
       "stream": "stdout",
       "text": [
        "........|..............|..............|.............|....."
       ]
      },
      {
       "output_type": "stream",
       "stream": "stdout",
       "text": [
        ".......|..........|...............|........|............"
       ]
      },
      {
       "output_type": "stream",
       "stream": "stdout",
       "text": [
        ".|................|.........|.............|.........|......."
       ]
      },
      {
       "output_type": "stream",
       "stream": "stdout",
       "text": [
        ".......|...........|.......|............|............|."
       ]
      },
      {
       "output_type": "stream",
       "stream": "stdout",
       "text": [
        "......|..............|............|..............|."
       ]
      },
      {
       "output_type": "stream",
       "stream": "stdout",
       "text": [
        "............|..............|............."
       ]
      },
      {
       "output_type": "stream",
       "stream": "stdout",
       "text": [
        "..|.............|............|..........."
       ]
      },
      {
       "output_type": "stream",
       "stream": "stdout",
       "text": [
        "....|...............|................"
       ]
      },
      {
       "output_type": "stream",
       "stream": "stdout",
       "text": [
        "|.........|............|.......|....."
       ]
      },
      {
       "output_type": "stream",
       "stream": "stdout",
       "text": [
        "......|...............|...........|."
       ]
      },
      {
       "output_type": "stream",
       "stream": "stdout",
       "text": [
        "............|............|..............|..."
       ]
      },
      {
       "output_type": "stream",
       "stream": "stdout",
       "text": [
        ".......|............|............."
       ]
      },
      {
       "output_type": "stream",
       "stream": "stdout",
       "text": [
        "..|.............|.............|......."
       ]
      },
      {
       "output_type": "stream",
       "stream": "stdout",
       "text": [
        ".......|............|........."
       ]
      },
      {
       "output_type": "stream",
       "stream": "stdout",
       "text": [
        "....|............|.........|..........."
       ]
      },
      {
       "output_type": "stream",
       "stream": "stdout",
       "text": [
        "...|............|............."
       ]
      },
      {
       "output_type": "stream",
       "stream": "stdout",
       "text": [
        ".|............|.............|......"
       ]
      },
      {
       "output_type": "stream",
       "stream": "stdout",
       "text": [
        "......|..............|......."
       ]
      },
      {
       "output_type": "stream",
       "stream": "stdout",
       "text": [
        "......|...........|...........|..."
       ]
      },
      {
       "output_type": "stream",
       "stream": "stdout",
       "text": [
        ".......|..........|........."
       ]
      },
      {
       "output_type": "stream",
       "stream": "stdout",
       "text": [
        ".....|.........|.............|.."
       ]
      },
      {
       "output_type": "stream",
       "stream": "stdout",
       "text": [
        ".......|........|............"
       ]
      },
      {
       "output_type": "stream",
       "stream": "stdout",
       "text": [
        "..|..........|............|......"
       ]
      },
      {
       "output_type": "stream",
       "stream": "stdout",
       "text": [
        "...|........|.............|...."
       ]
      },
      {
       "output_type": "stream",
       "stream": "stdout",
       "text": [
        "..........|............."
       ]
      },
      {
       "output_type": "stream",
       "stream": "stdout",
       "text": [
        ".|.........|............|."
       ]
      },
      {
       "output_type": "stream",
       "stream": "stdout",
       "text": [
        "............|..........."
       ]
      },
      {
       "output_type": "stream",
       "stream": "stdout",
       "text": [
        "|...........|............|......."
       ]
      },
      {
       "output_type": "stream",
       "stream": "stdout",
       "text": [
        "..|...........|........"
       ]
      },
      {
       "output_type": "stream",
       "stream": "stdout",
       "text": [
        "...|.................|.."
       ]
      },
      {
       "output_type": "stream",
       "stream": "stdout",
       "text": [
        ".......|.............|.."
       ]
      },
      {
       "output_type": "stream",
       "stream": "stdout",
       "text": [
        "..........|...........|."
       ]
      },
      {
       "output_type": "stream",
       "stream": "stdout",
       "text": [
        "..........|.............."
       ]
      },
      {
       "output_type": "stream",
       "stream": "stdout",
       "text": [
        "|.............|........."
       ]
      },
      {
       "output_type": "stream",
       "stream": "stdout",
       "text": [
        ".......|............|........."
       ]
      },
      {
       "output_type": "stream",
       "stream": "stdout",
       "text": [
        ".....|.............|...."
       ]
      },
      {
       "output_type": "stream",
       "stream": "stdout",
       "text": [
        ".........|..........|....."
       ]
      },
      {
       "output_type": "stream",
       "stream": "stdout",
       "text": [
        ".......|.........|...."
       ]
      },
      {
       "output_type": "stream",
       "stream": "stdout",
       "text": [
        "...|...............|.."
       ]
      },
      {
       "output_type": "stream",
       "stream": "stdout",
       "text": [
        "..........|........"
       ]
      },
      {
       "output_type": "stream",
       "stream": "stdout",
       "text": [
        ".....|.............."
       ]
      },
      {
       "output_type": "stream",
       "stream": "stdout",
       "text": [
        "..|..............|........."
       ]
      },
      {
       "output_type": "stream",
       "stream": "stdout",
       "text": [
        ".....|..........|......."
       ]
      },
      {
       "output_type": "stream",
       "stream": "stdout",
       "text": [
        "......|..........|........."
       ]
      },
      {
       "output_type": "stream",
       "stream": "stdout",
       "text": [
        ".....|............"
       ]
      },
      {
       "output_type": "stream",
       "stream": "stdout",
       "text": [
        ".|............|......"
       ]
      },
      {
       "output_type": "stream",
       "stream": "stdout",
       "text": [
        "......|.............|....."
       ]
      },
      {
       "output_type": "stream",
       "stream": "stdout",
       "text": [
        "..|.............|........."
       ]
      },
      {
       "output_type": "stream",
       "stream": "stdout",
       "text": [
        "...|..........|........."
       ]
      },
      {
       "output_type": "stream",
       "stream": "stdout",
       "text": [
        ".|.......|.............|..."
       ]
      },
      {
       "output_type": "stream",
       "stream": "stdout",
       "text": [
        ".........|............|...."
       ]
      },
      {
       "output_type": "stream",
       "stream": "stdout",
       "text": [
        ".....|.........|...."
       ]
      },
      {
       "output_type": "stream",
       "stream": "stdout",
       "text": [
        "...............|...."
       ]
      },
      {
       "output_type": "stream",
       "stream": "stdout",
       "text": [
        "......|.............."
       ]
      },
      {
       "output_type": "stream",
       "stream": "stdout",
       "text": [
        "|..............|..."
       ]
      },
      {
       "output_type": "stream",
       "stream": "stdout",
       "text": [
        ".........|............"
       ]
      },
      {
       "output_type": "stream",
       "stream": "stdout",
       "text": [
        ".|.........|........."
       ]
      },
      {
       "output_type": "stream",
       "stream": "stdout",
       "text": [
        "....|............."
       ]
      },
      {
       "output_type": "stream",
       "stream": "stdout",
       "text": [
        ".|.........|......."
       ]
      },
      {
       "output_type": "stream",
       "stream": "stdout",
       "text": [
        "......|..........."
       ]
      },
      {
       "output_type": "stream",
       "stream": "stdout",
       "text": [
        ".|..............|.."
       ]
      },
      {
       "output_type": "stream",
       "stream": "stdout",
       "text": [
        ".......|.........."
       ]
      },
      {
       "output_type": "stream",
       "stream": "stdout",
       "text": [
        "...|.........|........"
       ]
      },
      {
       "output_type": "stream",
       "stream": "stdout",
       "text": [
        "......|........|....."
       ]
      },
      {
       "output_type": "stream",
       "stream": "stdout",
       "text": [
        "........|........"
       ]
      },
      {
       "output_type": "stream",
       "stream": "stdout",
       "text": [
        ".|..............."
       ]
      },
      {
       "output_type": "stream",
       "stream": "stdout",
       "text": [
        "|........|......."
       ]
      },
      {
       "output_type": "stream",
       "stream": "stdout",
       "text": [
        ".......|........."
       ]
      },
      {
       "output_type": "stream",
       "stream": "stdout",
       "text": [
        "|..........|....."
       ]
      },
      {
       "output_type": "stream",
       "stream": "stdout",
       "text": [
        ".........|......"
       ]
      },
      {
       "output_type": "stream",
       "stream": "stdout",
       "text": [
        "...|...........|....."
       ]
      },
      {
       "output_type": "stream",
       "stream": "stdout",
       "text": [
        "...|...........|."
       ]
      },
      {
       "output_type": "stream",
       "stream": "stdout",
       "text": [
        "..............|."
       ]
      },
      {
       "output_type": "stream",
       "stream": "stdout",
       "text": [
        "........|......."
       ]
      },
      {
       "output_type": "stream",
       "stream": "stdout",
       "text": [
        "....|..........|."
       ]
      },
      {
       "output_type": "stream",
       "stream": "stdout",
       "text": [
        "............|......"
       ]
      },
      {
       "output_type": "stream",
       "stream": "stdout",
       "text": [
        ".......|..........|."
       ]
      },
      {
       "output_type": "stream",
       "stream": "stdout",
       "text": [
        "............|."
       ]
      },
      {
       "output_type": "stream",
       "stream": "stdout",
       "text": [
        "..............|..........|.."
       ]
      },
      {
       "output_type": "stream",
       "stream": "stdout",
       "text": [
        ".............|.."
       ]
      },
      {
       "output_type": "stream",
       "stream": "stdout",
       "text": [
        ".......|..........|...."
       ]
      },
      {
       "output_type": "stream",
       "stream": "stdout",
       "text": [
        "..........|.........|......."
       ]
      },
      {
       "output_type": "stream",
       "stream": "stdout",
       "text": [
        "......|............|...."
       ]
      },
      {
       "output_type": "stream",
       "stream": "stdout",
       "text": [
        "..........|..."
       ]
      },
      {
       "output_type": "stream",
       "stream": "stdout",
       "text": [
        "..........|....."
       ]
      },
      {
       "output_type": "stream",
       "stream": "stdout",
       "text": [
        "........|......."
       ]
      },
      {
       "output_type": "stream",
       "stream": "stdout",
       "text": [
        "...|..........."
       ]
      },
      {
       "output_type": "stream",
       "stream": "stdout",
       "text": [
        "..|...........|."
       ]
      },
      {
       "output_type": "stream",
       "stream": "stdout",
       "text": [
        "............|...."
       ]
      },
      {
       "output_type": "stream",
       "stream": "stdout",
       "text": [
        "...|.............|....."
       ]
      },
      {
       "output_type": "stream",
       "stream": "stdout",
       "text": [
        "....|.........."
       ]
      },
      {
       "output_type": "stream",
       "stream": "stdout",
       "text": [
        "..|........|.........|.."
       ]
      },
      {
       "output_type": "stream",
       "stream": "stdout",
       "text": [
        ".............|......"
       ]
      },
      {
       "output_type": "stream",
       "stream": "stdout",
       "text": [
        "...|.........|.."
       ]
      },
      {
       "output_type": "stream",
       "stream": "stdout",
       "text": [
        "........|......"
       ]
      },
      {
       "output_type": "stream",
       "stream": "stdout",
       "text": [
        "......|.............."
       ]
      },
      {
       "output_type": "stream",
       "stream": "stdout",
       "text": [
        "|.........|...."
       ]
      },
      {
       "output_type": "stream",
       "stream": "stdout",
       "text": [
        "........|......"
       ]
      },
      {
       "output_type": "stream",
       "stream": "stdout",
       "text": [
        "........|....."
       ]
      },
      {
       "output_type": "stream",
       "stream": "stdout",
       "text": [
        "..........|...."
       ]
      },
      {
       "output_type": "stream",
       "stream": "stdout",
       "text": [
        "......|........"
       ]
      },
      {
       "output_type": "stream",
       "stream": "stdout",
       "text": [
        "....|........."
       ]
      },
      {
       "output_type": "stream",
       "stream": "stdout",
       "text": [
        "...|.........."
       ]
      },
      {
       "output_type": "stream",
       "stream": "stdout",
       "text": [
        "....|........."
       ]
      },
      {
       "output_type": "stream",
       "stream": "stdout",
       "text": [
        "|............"
       ]
      },
      {
       "output_type": "stream",
       "stream": "stdout",
       "text": [
        ".|......|......"
       ]
      },
      {
       "output_type": "stream",
       "stream": "stdout",
       "text": [
        "......|......."
       ]
      },
      {
       "output_type": "stream",
       "stream": "stdout",
       "text": [
        "....|........"
       ]
      },
      {
       "output_type": "stream",
       "stream": "stdout",
       "text": [
        ".|.........|..."
       ]
      },
      {
       "output_type": "stream",
       "stream": "stdout",
       "text": [
        "......|..........|..."
       ]
      },
      {
       "output_type": "stream",
       "stream": "stdout",
       "text": [
        "......|........."
       ]
      },
      {
       "output_type": "stream",
       "stream": "stdout",
       "text": [
        "....|........|."
       ]
      },
      {
       "output_type": "stream",
       "stream": "stdout",
       "text": [
        "..........|..."
       ]
      },
      {
       "output_type": "stream",
       "stream": "stdout",
       "text": [
        "...........|.."
       ]
      },
      {
       "output_type": "stream",
       "stream": "stdout",
       "text": [
        "..........|..."
       ]
      },
      {
       "output_type": "stream",
       "stream": "stdout",
       "text": [
        "...........|..."
       ]
      },
      {
       "output_type": "stream",
       "stream": "stdout",
       "text": [
        "..........|.........|.."
       ]
      },
      {
       "output_type": "stream",
       "stream": "stdout",
       "text": [
        ".........|...."
       ]
      },
      {
       "output_type": "stream",
       "stream": "stdout",
       "text": [
        "......|............"
       ]
      },
      {
       "output_type": "stream",
       "stream": "stdout",
       "text": [
        ".|............"
       ]
      },
      {
       "output_type": "stream",
       "stream": "stdout",
       "text": [
        ".|..........|."
       ]
      },
      {
       "output_type": "stream",
       "stream": "stdout",
       "text": [
        "............"
       ]
      },
      {
       "output_type": "stream",
       "stream": "stdout",
       "text": [
        "|..........."
       ]
      },
      {
       "output_type": "stream",
       "stream": "stdout",
       "text": [
        "...|........|."
       ]
      },
      {
       "output_type": "stream",
       "stream": "stdout",
       "text": [
        "...........|.."
       ]
      },
      {
       "output_type": "stream",
       "stream": "stdout",
       "text": [
        "..........|......"
       ]
      },
      {
       "output_type": "stream",
       "stream": "stdout",
       "text": [
        ".......|.........."
       ]
      },
      {
       "output_type": "stream",
       "stream": "stdout",
       "text": [
        "..|..............|..."
       ]
      },
      {
       "output_type": "stream",
       "stream": "stdout",
       "text": [
        "......|......"
       ]
      },
      {
       "output_type": "stream",
       "stream": "stdout",
       "text": [
        ".........|....."
       ]
      },
      {
       "output_type": "stream",
       "stream": "stdout",
       "text": [
        ".....|........."
       ]
      },
      {
       "output_type": "stream",
       "stream": "stdout",
       "text": [
        "...|..........|...."
       ]
      },
      {
       "output_type": "stream",
       "stream": "stdout",
       "text": [
        "........|...."
       ]
      },
      {
       "output_type": "stream",
       "stream": "stdout",
       "text": [
        "........|....."
       ]
      },
      {
       "output_type": "stream",
       "stream": "stdout",
       "text": [
        "......|........"
       ]
      },
      {
       "output_type": "stream",
       "stream": "stdout",
       "text": [
        "..|.........|........."
       ]
      },
      {
       "output_type": "stream",
       "stream": "stdout",
       "text": [
        "......|........"
       ]
      },
      {
       "output_type": "stream",
       "stream": "stdout",
       "text": [
        "....|........"
       ]
      },
      {
       "output_type": "stream",
       "stream": "stdout",
       "text": [
        "......|......"
       ]
      },
      {
       "output_type": "stream",
       "stream": "stdout",
       "text": [
        "....|........"
       ]
      },
      {
       "output_type": "stream",
       "stream": "stdout",
       "text": [
        "....|........"
       ]
      },
      {
       "output_type": "stream",
       "stream": "stdout",
       "text": [
        "......|....."
       ]
      },
      {
       "output_type": "stream",
       "stream": "stdout",
       "text": [
        ".........|.."
       ]
      },
      {
       "output_type": "stream",
       "stream": "stdout",
       "text": [
        "..........|."
       ]
      },
      {
       "output_type": "stream",
       "stream": "stdout",
       "text": [
        "......|....."
       ]
      },
      {
       "output_type": "stream",
       "stream": "stdout",
       "text": [
        ".........|.."
       ]
      },
      {
       "output_type": "stream",
       "stream": "stdout",
       "text": [
        "......|.........."
       ]
      },
      {
       "output_type": "stream",
       "stream": "stdout",
       "text": [
        "..|.........."
       ]
      },
      {
       "output_type": "stream",
       "stream": "stdout",
       "text": [
        "..|...........|...."
       ]
      },
      {
       "output_type": "stream",
       "stream": "stdout",
       "text": [
        ".......|...."
       ]
      },
      {
       "output_type": "stream",
       "stream": "stdout",
       "text": [
        ".......|...."
       ]
      },
      {
       "output_type": "stream",
       "stream": "stdout",
       "text": [
        "..........."
       ]
      },
      {
       "output_type": "stream",
       "stream": "stdout",
       "text": [
        "|.........|."
       ]
      },
      {
       "output_type": "stream",
       "stream": "stdout",
       "text": [
        "..........."
       ]
      },
      {
       "output_type": "stream",
       "stream": "stdout",
       "text": [
        "|.........|."
       ]
      },
      {
       "output_type": "stream",
       "stream": "stdout",
       "text": [
        "...........|....."
       ]
      },
      {
       "output_type": "stream",
       "stream": "stdout",
       "text": [
        "....|......."
       ]
      },
      {
       "output_type": "stream",
       "stream": "stdout",
       "text": [
        "........|..."
       ]
      },
      {
       "output_type": "stream",
       "stream": "stdout",
       "text": [
        ".....|......"
       ]
      },
      {
       "output_type": "stream",
       "stream": "stdout",
       "text": [
        ".........|.."
       ]
      },
      {
       "output_type": "stream",
       "stream": "stdout",
       "text": [
        ".......|......."
       ]
      },
      {
       "output_type": "stream",
       "stream": "stdout",
       "text": [
        ".....|.........|..."
       ]
      },
      {
       "output_type": "stream",
       "stream": "stdout",
       "text": [
        ".......|..."
       ]
      },
      {
       "output_type": "stream",
       "stream": "stdout",
       "text": [
        "..........."
       ]
      },
      {
       "output_type": "stream",
       "stream": "stdout",
       "text": [
        "|.........."
       ]
      },
      {
       "output_type": "stream",
       "stream": "stdout",
       "text": [
        "|.........|."
       ]
      },
      {
       "output_type": "stream",
       "stream": "stdout",
       "text": [
        ".......|........|..."
       ]
      },
      {
       "output_type": "stream",
       "stream": "stdout",
       "text": [
        "..........."
       ]
      },
      {
       "output_type": "stream",
       "stream": "stdout",
       "text": [
        ".|........."
       ]
      },
      {
       "output_type": "stream",
       "stream": "stdout",
       "text": [
        ".|............|..."
       ]
      },
      {
       "output_type": "stream",
       "stream": "stdout",
       "text": [
        "..|........"
       ]
      },
      {
       "output_type": "stream",
       "stream": "stdout",
       "text": [
        "..|..............|."
       ]
      },
      {
       "output_type": "stream",
       "stream": "stdout",
       "text": [
        "............|..."
       ]
      },
      {
       "output_type": "stream",
       "stream": "stdout",
       "text": [
        ".........|.."
       ]
      },
      {
       "output_type": "stream",
       "stream": "stdout",
       "text": [
        "..........."
       ]
      },
      {
       "output_type": "stream",
       "stream": "stdout",
       "text": [
        "|.........|...."
       ]
      },
      {
       "output_type": "stream",
       "stream": "stdout",
       "text": [
        "........|.."
       ]
      },
      {
       "output_type": "stream",
       "stream": "stdout",
       "text": [
        ".........|.."
       ]
      },
      {
       "output_type": "stream",
       "stream": "stdout",
       "text": [
        ".........|.."
       ]
      },
      {
       "output_type": "stream",
       "stream": "stdout",
       "text": [
        ".............|......"
       ]
      },
      {
       "output_type": "stream",
       "stream": "stdout",
       "text": [
        "...|.............|..."
       ]
      },
      {
       "output_type": "stream",
       "stream": "stdout",
       "text": [
        "...........|...."
       ]
      },
      {
       "output_type": "stream",
       "stream": "stdout",
       "text": [
        "..........."
       ]
      },
      {
       "output_type": "stream",
       "stream": "stdout",
       "text": [
        "|.........."
       ]
      },
      {
       "output_type": "stream",
       "stream": "stdout",
       "text": [
        "|............|..."
       ]
      },
      {
       "output_type": "stream",
       "stream": "stdout",
       "text": [
        "........|.."
       ]
      },
      {
       "output_type": "stream",
       "stream": "stdout",
       "text": [
        "..........."
       ]
      },
      {
       "output_type": "stream",
       "stream": "stdout",
       "text": [
        ".|........."
       ]
      },
      {
       "output_type": "stream",
       "stream": "stdout",
       "text": [
        "..|........"
       ]
      },
      {
       "output_type": "stream",
       "stream": "stdout",
       "text": [
        ".....|........."
       ]
      },
      {
       "output_type": "stream",
       "stream": "stdout",
       "text": [
        ".|............|..."
       ]
      },
      {
       "output_type": "stream",
       "stream": "stdout",
       "text": [
        "........."
       ]
      },
      {
       "output_type": "stream",
       "stream": "stdout",
       "text": [
        ".|........."
       ]
      },
      {
       "output_type": "stream",
       "stream": "stdout",
       "text": [
        "..|........"
       ]
      },
      {
       "output_type": "stream",
       "stream": "stdout",
       "text": [
        "|............|..."
       ]
      },
      {
       "output_type": "stream",
       "stream": "stdout",
       "text": [
        ".........."
       ]
      },
      {
       "output_type": "stream",
       "stream": "stdout",
       "text": [
        "..|........"
       ]
      },
      {
       "output_type": "stream",
       "stream": "stdout",
       "text": [
        ".......|......"
       ]
      },
      {
       "output_type": "stream",
       "stream": "stdout",
       "text": [
        "........|....."
       ]
      },
      {
       "output_type": "stream",
       "stream": "stdout",
       "text": [
        "......|...."
       ]
      },
      {
       "output_type": "stream",
       "stream": "stdout",
       "text": [
        "........|.."
       ]
      },
      {
       "output_type": "stream",
       "stream": "stdout",
       "text": [
        ".........."
       ]
      },
      {
       "output_type": "stream",
       "stream": "stdout",
       "text": [
        ".|........|....."
       ]
      },
      {
       "output_type": "stream",
       "stream": "stdout",
       "text": [
        ".......|......"
       ]
      },
      {
       "output_type": "stream",
       "stream": "stdout",
       "text": [
        "........|......"
       ]
      },
      {
       "output_type": "stream",
       "stream": "stdout",
       "text": [
        "...|......."
       ]
      },
      {
       "output_type": "stream",
       "stream": "stdout",
       "text": [
        ".....|....."
       ]
      },
      {
       "output_type": "stream",
       "stream": "stdout",
       "text": [
        ".......|....."
       ]
      },
      {
       "output_type": "stream",
       "stream": "stdout",
       "text": [
        "........|....."
       ]
      },
      {
       "output_type": "stream",
       "stream": "stdout",
       "text": [
        ".....|....."
       ]
      },
      {
       "output_type": "stream",
       "stream": "stdout",
       "text": [
        ".........|."
       ]
      },
      {
       "output_type": "stream",
       "stream": "stdout",
       "text": [
        "........."
       ]
      },
      {
       "output_type": "stream",
       "stream": "stdout",
       "text": [
        ".|........."
       ]
      },
      {
       "output_type": "stream",
       "stream": "stdout",
       "text": [
        "...|......."
       ]
      },
      {
       "output_type": "stream",
       "stream": "stdout",
       "text": [
        "....|......"
       ]
      },
      {
       "output_type": "stream",
       "stream": "stdout",
       "text": [
        "........|..."
       ]
      },
      {
       "output_type": "stream",
       "stream": "stdout",
       "text": [
        "..........|...."
       ]
      },
      {
       "output_type": "stream",
       "stream": "stdout",
       "text": [
        "........."
       ]
      },
      {
       "output_type": "stream",
       "stream": "stdout",
       "text": [
        ".|........"
       ]
      },
      {
       "output_type": "stream",
       "stream": "stdout",
       "text": [
        "........|.."
       ]
      },
      {
       "output_type": "stream",
       "stream": "stdout",
       "text": [
        ".......|.."
       ]
      },
      {
       "output_type": "stream",
       "stream": "stdout",
       "text": [
        ".........."
       ]
      },
      {
       "output_type": "stream",
       "stream": "stdout",
       "text": [
        ".|...........|..."
       ]
      },
      {
       "output_type": "stream",
       "stream": "stdout",
       "text": [
        "........."
       ]
      },
      {
       "output_type": "stream",
       "stream": "stdout",
       "text": [
        ".|........"
       ]
      },
      {
       "output_type": "stream",
       "stream": "stdout",
       "text": [
        "...|......"
       ]
      },
      {
       "output_type": "stream",
       "stream": "stdout",
       "text": [
        ".......|...."
       ]
      },
      {
       "output_type": "stream",
       "stream": "stdout",
       "text": [
        "......|....."
       ]
      },
      {
       "output_type": "stream",
       "stream": "stdout",
       "text": [
        ".......|..."
       ]
      },
      {
       "output_type": "stream",
       "stream": "stdout",
       "text": [
        "......|......."
       ]
      },
      {
       "output_type": "stream",
       "stream": "stdout",
       "text": [
        "......|......"
       ]
      },
      {
       "output_type": "stream",
       "stream": "stdout",
       "text": [
        "..|......"
       ]
      },
      {
       "output_type": "stream",
       "stream": "stdout",
       "text": [
        ".|....."
       ]
      },
      {
       "output_type": "stream",
       "stream": "stdout",
       "text": [
        ".....|.."
       ]
      },
      {
       "output_type": "stream",
       "stream": "stdout",
       "text": [
        "......"
       ]
      },
      {
       "output_type": "stream",
       "stream": "stdout",
       "text": [
        "....|......"
       ]
      },
      {
       "output_type": "stream",
       "stream": "stdout",
       "text": [
        ".......|........|."
       ]
      },
      {
       "output_type": "stream",
       "stream": "stdout",
       "text": [
        ".......|...."
       ]
      },
      {
       "output_type": "stream",
       "stream": "stdout",
       "text": [
        "......"
       ]
      },
      {
       "output_type": "stream",
       "stream": "stdout",
       "text": [
        "...|..."
       ]
      },
      {
       "output_type": "stream",
       "stream": "stdout",
       "text": [
        "......"
       ]
      },
      {
       "output_type": "stream",
       "stream": "stdout",
       "text": [
        "|....."
       ]
      },
      {
       "output_type": "stream",
       "stream": "stdout",
       "text": [
        "......."
       ]
      },
      {
       "output_type": "stream",
       "stream": "stdout",
       "text": [
        "..|...."
       ]
      },
      {
       "output_type": "stream",
       "stream": "stdout",
       "text": [
        "......"
       ]
      },
      {
       "output_type": "stream",
       "stream": "stdout",
       "text": [
        "...|..."
       ]
      },
      {
       "output_type": "stream",
       "stream": "stdout",
       "text": [
        "......"
       ]
      },
      {
       "output_type": "stream",
       "stream": "stdout",
       "text": [
        ".|....."
       ]
      },
      {
       "output_type": "stream",
       "stream": "stdout",
       "text": [
        "......"
       ]
      },
      {
       "output_type": "stream",
       "stream": "stdout",
       "text": [
        ".|........|..."
       ]
      },
      {
       "output_type": "stream",
       "stream": "stdout",
       "text": [
        "......"
       ]
      },
      {
       "output_type": "stream",
       "stream": "stdout",
       "text": [
        "..|"
       ]
      }
     ],
     "prompt_number": 31
    },
    {
     "cell_type": "code",
     "collapsed": false,
     "input": [
      "for flt, flt_df in n.f.getUniqueFlights(firstflight):\n",
      "#     flt_df['BC'] = encodeBC(flt_df['BC'])\n",
      "    print np.random.uniform(\n",
      "    \n",
      "    for i, bc in enumerate(flt_df['BC']):\n",
      "        flt_df['BC'][i] = np.array(encodeBC(bc))\n",
      "    break\n",
      "    \n",
      "    print flt_df\n",
      "    "
     ],
     "language": "python",
     "metadata": {},
     "outputs": [
      {
       "ename": "KeyError",
       "evalue": "'120 not in this series!'",
       "output_type": "pyerr",
       "traceback": [
        "\u001b[1;31m---------------------------------------------------------------------------\u001b[0m\n\u001b[1;31mKeyError\u001b[0m                                  Traceback (most recent call last)",
        "\u001b[1;32m<ipython-input-83-971cfeda97db>\u001b[0m in \u001b[0;36m<module>\u001b[1;34m()\u001b[0m\n\u001b[0;32m      4\u001b[0m \u001b[1;33m\u001b[0m\u001b[0m\n\u001b[0;32m      5\u001b[0m     \u001b[1;32mfor\u001b[0m \u001b[0mi\u001b[0m\u001b[1;33m,\u001b[0m \u001b[0mbc\u001b[0m \u001b[1;32min\u001b[0m \u001b[0menumerate\u001b[0m\u001b[1;33m(\u001b[0m\u001b[0mflt_df\u001b[0m\u001b[1;33m[\u001b[0m\u001b[1;34m'BC'\u001b[0m\u001b[1;33m]\u001b[0m\u001b[1;33m)\u001b[0m\u001b[1;33m:\u001b[0m\u001b[1;33m\u001b[0m\u001b[0m\n\u001b[1;32m----> 6\u001b[1;33m         \u001b[0mflt_df\u001b[0m\u001b[1;33m[\u001b[0m\u001b[1;34m'BC'\u001b[0m\u001b[1;33m]\u001b[0m\u001b[1;33m[\u001b[0m\u001b[0mi\u001b[0m\u001b[1;33m]\u001b[0m \u001b[1;33m=\u001b[0m \u001b[0mnp\u001b[0m\u001b[1;33m.\u001b[0m\u001b[0marray\u001b[0m\u001b[1;33m(\u001b[0m\u001b[0mencodeBC\u001b[0m\u001b[1;33m(\u001b[0m\u001b[0mbc\u001b[0m\u001b[1;33m)\u001b[0m\u001b[1;33m)\u001b[0m\u001b[1;33m\u001b[0m\u001b[0m\n\u001b[0m\u001b[0;32m      7\u001b[0m     \u001b[1;32mbreak\u001b[0m\u001b[1;33m\u001b[0m\u001b[0m\n\u001b[0;32m      8\u001b[0m \u001b[1;33m\u001b[0m\u001b[0m\n",
        "\u001b[1;32m/usr/local/lib/python2.7/dist-packages/pandas-0.12.0-py2.7-linux-x86_64.egg/pandas/core/series.pyc\u001b[0m in \u001b[0;36m__setitem__\u001b[1;34m(self, key, value)\u001b[0m\n\u001b[0;32m    829\u001b[0m                 \u001b[1;32mreturn\u001b[0m\u001b[1;33m\u001b[0m\u001b[0m\n\u001b[0;32m    830\u001b[0m \u001b[1;33m\u001b[0m\u001b[0m\n\u001b[1;32m--> 831\u001b[1;33m             \u001b[1;32mraise\u001b[0m \u001b[0mKeyError\u001b[0m\u001b[1;33m(\u001b[0m\u001b[1;34m'%s not in this series!'\u001b[0m \u001b[1;33m%\u001b[0m \u001b[0mstr\u001b[0m\u001b[1;33m(\u001b[0m\u001b[0mkey\u001b[0m\u001b[1;33m)\u001b[0m\u001b[1;33m)\u001b[0m\u001b[1;33m\u001b[0m\u001b[0m\n\u001b[0m\u001b[0;32m    832\u001b[0m         \u001b[1;32mexcept\u001b[0m \u001b[0mTypeError\u001b[0m\u001b[1;33m,\u001b[0m \u001b[0me\u001b[0m\u001b[1;33m:\u001b[0m\u001b[1;33m\u001b[0m\u001b[0m\n\u001b[0;32m    833\u001b[0m             \u001b[1;31m# python 3 type errors should be raised\u001b[0m\u001b[1;33m\u001b[0m\u001b[1;33m\u001b[0m\u001b[0m\n",
        "\u001b[1;31mKeyError\u001b[0m: '120 not in this series!'"
       ]
      },
      {
       "output_type": "stream",
       "stream": "stdout",
       "text": [
        "[ 0.14110141  0.54309692]\n"
       ]
      }
     ],
     "prompt_number": 83
    },
    {
     "cell_type": "code",
     "collapsed": false,
     "input": [
      "print X_train.shape, X_test.shape, y_train.shape, y_test.shape\n"
     ],
     "language": "python",
     "metadata": {},
     "outputs": [
      {
       "output_type": "stream",
       "stream": "stdout",
       "text": [
        "(101780, 36) (43251, 36) (101780,) (43251,)\n"
       ]
      }
     ],
     "prompt_number": 32
    },
    {
     "cell_type": "code",
     "collapsed": false,
     "input": [
      "def percentage_error(ground_truth, predictions):\n",
      "    ground_truth, predictions = (np.array(ground_truth), np.array(predictions))\n",
      "    diff = np.abs(ground_truth - predictions)\n",
      "    np.array(dtype='float\n",
      "    return np.divide(diff, ground_truth) "
     ],
     "language": "python",
     "metadata": {},
     "outputs": []
    },
    {
     "cell_type": "code",
     "collapsed": false,
     "input": [
      "def meanAbsoluteError(ground_truth, predictions):\n",
      "    ground_truth = np.array(ground_truth)\n",
      "    predictions = np.array(predictions)\n",
      "    diff = np.abs(ground_truth - predictions)\n",
      "    return np.sum(diff)/np.size(diff)"
     ],
     "language": "python",
     "metadata": {},
     "outputs": [],
     "prompt_number": 33
    },
    {
     "cell_type": "code",
     "collapsed": false,
     "input": [
      "from sklearn.ensemble import RandomForestRegressor\n",
      "model = RandomForestRegressor()\n",
      "model.fit(X_train, y_train)\n",
      "y_predict = model.predict(X_test)\n",
      "\n",
      "print \"\\nMeanAbsoluteError: \" + str(meanAbsoluteError(y_test,y_predict))"
     ],
     "language": "python",
     "metadata": {},
     "outputs": [
      {
       "output_type": "stream",
       "stream": "stdout",
       "text": [
        "\n",
        "MeanAbsoluteError: 0.925480780343\n"
       ]
      }
     ],
     "prompt_number": 34
    },
    {
     "cell_type": "code",
     "collapsed": false,
     "input": [
      "model.feature_importances_"
     ],
     "language": "python",
     "metadata": {},
     "outputs": [
      {
       "metadata": {},
       "output_type": "pyout",
       "prompt_number": 48,
       "text": [
        "array([  6.56071908e-05,   1.79720195e-04,   4.95731116e-05,\n",
        "         4.63955918e-05,   8.78191511e-05,   3.01964832e-04,\n",
        "         8.80867922e-05,   1.16710458e-04,   8.83495408e-05,\n",
        "         5.57592240e-05,   2.18935236e-04,   1.87112399e-03,\n",
        "         3.79949569e-06,   4.56248519e-04,   2.64764673e-03,\n",
        "         6.86651683e-04,   7.23861311e-03,   1.25245456e-06,\n",
        "         8.47986540e-06,   1.58296456e-05,   7.96498784e-08,\n",
        "         5.32019462e-06,   5.28467373e-06,   2.54902545e-02,\n",
        "         3.29155080e-05,   3.59156405e-04,   2.73487115e-05,\n",
        "         4.22991356e-05,   2.00782893e-06,   8.20722486e-08,\n",
        "         5.83228930e-09,   8.02075671e-01,   6.41854626e-02,\n",
        "         3.05199216e-03,   6.47340616e-02,   2.57594913e-02])"
       ]
      }
     ],
     "prompt_number": 48
    },
    {
     "cell_type": "code",
     "collapsed": false,
     "input": [
      "X_test[1:10, :]\n"
     ],
     "language": "python",
     "metadata": {},
     "outputs": [
      {
       "metadata": {},
       "output_type": "pyout",
       "prompt_number": 52,
       "text": [
        "array([[   0,    0,    1,    0,    0,    0,    0,    0,    0,    0,    0,\n",
        "           1,    0,    0,    0,    0,    0,    0,    0,    0,    0,    0,\n",
        "           0,    0,    0,    0,    0,    0,    0,    0,    0,    0,   87,\n",
        "          87, -259,   28],\n",
        "       [   0,    0,    1,    0,    0,    0,    0,    0,    0,    0,    0,\n",
        "           1,    0,    0,    0,    0,    0,    0,    0,    0,    0,    0,\n",
        "           0,    0,    0,    0,    0,    0,    0,    0,    0,    0,   87,\n",
        "          87, -231,   28],\n",
        "       [   0,    0,    1,    0,    0,    0,    0,    0,    0,    0,    0,\n",
        "           1,    0,    0,    0,    0,    0,    0,    0,    0,    0,    0,\n",
        "           0,    0,    0,    0,    0,    0,    0,    0,    0,    0,  119,\n",
        "         124, -203,   28],\n",
        "       [   0,    0,    1,    0,    0,    0,    0,    0,    0,    0,    0,\n",
        "           1,    0,    0,    0,    0,    0,    0,    0,    0,    0,    0,\n",
        "           0,    0,    0,    0,    0,    0,    0,    0,    0,    0,  120,\n",
        "         122, -175,   28],\n",
        "       [   0,    0,    1,    0,    0,    0,    0,    0,    0,    0,    0,\n",
        "           1,    0,    0,    0,    0,    0,    0,    0,    0,    0,    0,\n",
        "           0,    0,    0,    0,    0,    0,    0,    0,    0,    0,  121,\n",
        "         123, -147,   28],\n",
        "       [   0,    0,    1,    0,    0,    0,    0,    0,    0,    0,    0,\n",
        "           1,    0,    0,    0,    0,    0,    0,    0,    0,    0,    0,\n",
        "           0,    0,    0,    0,    0,    0,    0,    0,    0,    0,  122,\n",
        "         125, -119,   28],\n",
        "       [   0,    0,    1,    0,    0,    0,    0,    0,    0,    0,    0,\n",
        "           1,    0,    0,    0,    0,    0,    0,    0,    0,    0,    0,\n",
        "           0,    0,    0,    0,    0,    0,    0,    0,    0,    0,  123,\n",
        "         126,  -91,   28],\n",
        "       [   0,    0,    1,    0,    0,    0,    0,    0,    0,    0,    0,\n",
        "           1,    0,    0,    0,    0,    0,    0,    0,    0,    0,    0,\n",
        "           0,    0,    0,    0,    0,    0,    0,    0,    0,    0,  124,\n",
        "         126,  -84,    7],\n",
        "       [   0,    0,    1,    0,    0,    0,    0,    0,    0,    0,    0,\n",
        "           1,    0,    0,    0,    0,    0,    0,    0,    0,    0,    0,\n",
        "           0,    0,    0,    0,    0,    0,    0,    0,    0,    0,  120,\n",
        "         125,  -77,    7]])"
       ]
      }
     ],
     "prompt_number": 52
    },
    {
     "cell_type": "raw",
     "metadata": {},
     "source": [
      "Visualize deltaBKD (y) for prediction on the test set vs the actual"
     ]
    },
    {
     "cell_type": "code",
     "collapsed": false,
     "input": [
      "result_dir = os.path.join(os.path.abspath(\".\"),\"Results/deltaBKD-over-deltaT/RandomForestRegressor/DMMDXB/\")\n",
      "\n",
      "KEYDAY_INDEX = -2\n",
      "\n",
      "index = 0\n",
      "current_snapshot = 0\n",
      "while(True):\n",
      "    current_keyday = X_test[current_snapshot, KEYDAY_INDEX]\n",
      "    keyday_vector = []\n",
      "    y_test_vector = []\n",
      "    y_predict_vector = []\n",
      "    try:\n",
      "        while X_test[current_snapshot + 1, KEYDAY_INDEX] > current_keyday:\n",
      "            keyday_vector.append(current_keyday) # Build up KEYDAY_VECTOR\n",
      "            y_test_vector.append(y_test[current_snapshot])\n",
      "            y_predict_vector.append(y_predict[current_snapshot])\n",
      "            current_snapshot += 1\n",
      "            current_keyday = X_test[current_snapshot, KEYDAY_INDEX]\n",
      "    except IndexError:\n",
      "        print \"Plotting Complete\"\n",
      "        break\n",
      "    plt.clf()\n",
      "    plt.hold(True)\n",
      "    plt.plot(keyday_vector, y_test_vector)\n",
      "    plt.plot(keyday_vector, y_predict_vector)\n",
      "    plt.legend(['test','predict'],loc=3)\n",
      "    plt.xlabel('-KEYDAY from Departure')\n",
      "    plt.ylabel('delta BKD')\n",
      "    plt.savefig(result_dir + str(index))\n",
      "    index += 1\n",
      "    current_snapshot += 1\n"
     ],
     "language": "python",
     "metadata": {},
     "outputs": [
      {
       "ename": "IndexError",
       "evalue": "index 47015 is out of bounds for axis 0 with size 47015",
       "output_type": "pyerr",
       "traceback": [
        "\u001b[1;31m---------------------------------------------------------------------------\u001b[0m\n\u001b[1;31mIndexError\u001b[0m                                Traceback (most recent call last)",
        "\u001b[1;32m<ipython-input-18-8d8677bfbb87>\u001b[0m in \u001b[0;36m<module>\u001b[1;34m()\u001b[0m\n\u001b[0;32m      6\u001b[0m \u001b[0mcurrent_snapshot\u001b[0m \u001b[1;33m=\u001b[0m \u001b[1;36m0\u001b[0m\u001b[1;33m\u001b[0m\u001b[0m\n\u001b[0;32m      7\u001b[0m \u001b[1;32mwhile\u001b[0m\u001b[1;33m(\u001b[0m\u001b[0mTrue\u001b[0m\u001b[1;33m)\u001b[0m\u001b[1;33m:\u001b[0m\u001b[1;33m\u001b[0m\u001b[0m\n\u001b[1;32m----> 8\u001b[1;33m     \u001b[0mcurrent_keyday\u001b[0m \u001b[1;33m=\u001b[0m \u001b[0mX_test\u001b[0m\u001b[1;33m[\u001b[0m\u001b[0mcurrent_snapshot\u001b[0m\u001b[1;33m,\u001b[0m \u001b[0mKEYDAY_INDEX\u001b[0m\u001b[1;33m]\u001b[0m\u001b[1;33m\u001b[0m\u001b[0m\n\u001b[0m\u001b[0;32m      9\u001b[0m     \u001b[0mkeyday_vector\u001b[0m \u001b[1;33m=\u001b[0m \u001b[1;33m[\u001b[0m\u001b[1;33m]\u001b[0m\u001b[1;33m\u001b[0m\u001b[0m\n\u001b[0;32m     10\u001b[0m     \u001b[0my_test_vector\u001b[0m \u001b[1;33m=\u001b[0m \u001b[1;33m[\u001b[0m\u001b[1;33m]\u001b[0m\u001b[1;33m\u001b[0m\u001b[0m\n",
        "\u001b[1;31mIndexError\u001b[0m: index 47015 is out of bounds for axis 0 with size 47015"
       ]
      },
      {
       "output_type": "stream",
       "stream": "stdout",
       "text": [
        "\n"
       ]
      },
      {
       "metadata": {},
       "output_type": "display_data",
       "png": "[encoded data removed]",
       "text": [
        "<matplotlib.figure.Figure at 0x13158810>"
       ]
      }
     ],
     "prompt_number": 18
    },
    {
     "cell_type": "code",
     "collapsed": false,
     "input": [
      "KEYDAY_INDEX = -2\n",
      "BKD_INDEX = -5\n",
      "totalbkd_test_vector = []\n",
      "totalbkd_predict_vector = []\n",
      "\n",
      "index = 0\n",
      "current_snapshot = 0\n",
      "while(True):\n",
      "    initial_bkd = X_test[current_snapshot, BKD_INDEX]\n",
      "    current_keyday = X_test[current_snapshot, KEYDAY_INDEX]\n",
      "    totalbkd_test = initial_bkd\n",
      "    totalbkd_predict = initial_bkd\n",
      "    try:\n",
      "        while X_test[current_snapshot + 1, KEYDAY_INDEX] > current_keyday:\n",
      "            totalbkd_test += y_test[current_snapshot]\n",
      "            totalbkd_predict += y_predict[current_snapshot]\n",
      "            current_snapshot += 1\n",
      "            current_keyday = X_test[current_snapshot, KEYDAY_INDEX]\n",
      "    except IndexError:\n",
      "        print (\"TotalBKD from deltaBKD summation complete\")\n",
      "        break\n",
      "    totalbkd_test_vector.append(totalbkd_test)\n",
      "    totalbkd_predict_vector.append(totalbkd_predict)\n",
      "    index += 1\n",
      "    current_snapshot += 1"
     ],
     "language": "python",
     "metadata": {},
     "outputs": [
      {
       "output_type": "stream",
       "stream": "stdout",
       "text": [
        "TotalBKD from deltaBKD summation complete\n"
       ]
      }
     ],
     "prompt_number": 20
    },
    {
     "cell_type": "code",
     "collapsed": false,
     "input": [
      "print \"\\nMean Absolute Error of Calculating TotalBKD for a particular Booking Class: \" + str(meanAbsoluteError(totalbkd_test_vector, totalbkd_predict_vector))"
     ],
     "language": "python",
     "metadata": {},
     "outputs": [
      {
       "output_type": "stream",
       "stream": "stdout",
       "text": [
        "\n",
        "Mean Absolute Error of Calculating TotalBKD for a particular Booking Class: 9.24399078612\n"
       ]
      }
     ],
     "prompt_number": 41
    },
    {
     "cell_type": "code",
     "collapsed": false,
     "input": [
      "\n",
      "total = float(len(cum_deltabkd))\n",
      "mid = len([x for x in cum_deltabkd if x >= 0 and x < 3])\n",
      "neg = len([x for x in cum_deltabkd if x < 0])\n",
      "pos = len([x for x in cum_deltabkd if x > 3])\n",
      "\n",
      "print neg / total\n",
      "print mid / total\n",
      "print pos / total"
     ],
     "language": "python",
     "metadata": {},
     "outputs": []
    },
    {
     "cell_type": "code",
     "collapsed": false,
     "input": [
      "import thinkstats2\n",
      "import thinkplot\n",
      "\n",
      "cdf = thinkstats2.MakeCdfFromList(cum_deltabkd_obsrvd)\n",
      "\n",
      "# cdf = thinkstats2.MakeCdfFromList([x for x in cum_deltabkd if x >= 0 and x < 2],'Stevie Cum')\n",
      "thinkplot.Cdf(cdf)\n",
      "thinkplot.show()"
     ],
     "language": "python",
     "metadata": {},
     "outputs": []
    },
    {
     "cell_type": "code",
     "collapsed": false,
     "input": [
      "plt.plot(keyday_interp, bkd_interp, '.')\n",
      "plt.show()"
     ],
     "language": "python",
     "metadata": {},
     "outputs": []
    }
   ],
   "metadata": {}
  }
 ]
}